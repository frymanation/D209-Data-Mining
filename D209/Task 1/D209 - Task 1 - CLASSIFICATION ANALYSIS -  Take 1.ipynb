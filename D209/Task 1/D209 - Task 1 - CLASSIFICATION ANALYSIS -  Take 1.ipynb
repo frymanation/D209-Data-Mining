{
 "cells": [
  {
   "cell_type": "markdown",
   "id": "e2233ce9",
   "metadata": {},
   "source": [
    "<h2>D209 - Data Mining -  TASK 1: CLASSIFICATION ANALYSIS</h2>\n",
    "\n",
    "Jonathon \"Jon” Fryman<br>\n",
    "Data Analytics 01/01/2022<br>\n",
    "Student ID 000974544<br>\n",
    "Program Mentor: Lea Yoakem<br>\n",
    "C: 419-206-6989 (ET)<br>\n",
    "jfryma1@wgu.edu<br>"
   ]
  },
  {
   "cell_type": "markdown",
   "id": "6c41d5a0",
   "metadata": {},
   "source": [
    "<h3>Part I: Research Question</h3>"
   ]
  },
  {
   "cell_type": "markdown",
   "id": "8a5514a6",
   "metadata": {},
   "source": [
    "<h3>A.  Describe the purpose of this data mining report by doing the following:</h3>"
   ]
  },
  {
   "cell_type": "markdown",
   "id": "798b415e",
   "metadata": {},
   "source": [
    "<h3>A1.  Propose one question relevant to a real-world organizational situation that you will answer using one of the following classification methods:</h3>\n",
    "\n",
    "\n",
    "Can we correctly identify which customers correctly identify themselves as Techie?"
   ]
  },
  {
   "cell_type": "markdown",
   "id": "112d3144",
   "metadata": {},
   "source": [
    "<h3>A2. Define one goal of the data analysis.</h3>\n",
    "\n",
    "The goal of the stated research question is to identify if the customer would be likely to identify themselves as Techie. This would allow better specificity in provided service offerings to different segments of customers.\n",
    " "
   ]
  },
  {
   "cell_type": "markdown",
   "id": "0849ed78",
   "metadata": {},
   "source": [
    "<h3>Part II: Method Justification</h3>"
   ]
  },
  {
   "cell_type": "markdown",
   "id": "febb12a6",
   "metadata": {},
   "source": [
    "<h3>B.  Explain the reasons for your chosen prediction method from part A1 by doing the following:</h3>"
   ]
  },
  {
   "cell_type": "markdown",
   "id": "7acc4d16",
   "metadata": {},
   "source": [
    "<h3>B1.  Explain how the prediction method you chose analyzes the selected data set. Include expected outcomes.</h3>"
   ]
  },
  {
   "cell_type": "markdown",
   "id": "1b24250a",
   "metadata": {},
   "source": [
    "<h3>B2.  Summarize one assumption of the chosen prediction method.</h3>\n",
    "\n",
    "\n",
    "<i>KNN is a non-parametric algorithm and does not require any assumptions on the data distribution. This gives KNN an extra edge in specific settings where the data is highly unusual. This is the reason for KNN being the first choice when there is no prior knowledge or very little knowledge about the data distribution.</i>"
   ]
  },
  {
   "cell_type": "markdown",
   "id": "87740c5c",
   "metadata": {},
   "source": [
    "<h3>B3.  List the packages or libraries you have chosen for Python or R, and justify how each item on the list supports the analysis.</h3>\n",
    "\n",
    "Utilized packages/libraries include:\n",
    "<ul>\n",
    "    <li>Pandas</li>\n",
    "    <li>Numpy</li>\n",
    "    <li>sklearn</li>\n",
    "    <li>train_test_split</li>\n",
    "    <li>sklearn.metrics - accuracy_score</li>\n",
    "    <li>sklearn.metrics - mean_squared_errors</li>\n",
    "    <li>sklearn.neighbors - KNeighborsClassifier</li>\n",
    "    \n",
    "</ul>"
   ]
  },
  {
   "cell_type": "markdown",
   "id": "442e211c",
   "metadata": {},
   "source": [
    "<h3>Part III: Data Preparation</h3>"
   ]
  },
  {
   "cell_type": "markdown",
   "id": "c13a0357",
   "metadata": {},
   "source": [
    "<h3>C.  Perform data preparation for the chosen data set by doing the following:</h3>"
   ]
  },
  {
   "cell_type": "markdown",
   "id": "107e9f9a",
   "metadata": {},
   "source": [
    "<h3>C1.  Describe one data preprocessing goal relevant to the prediction method from part A1.</h3>"
   ]
  },
  {
   "cell_type": "markdown",
   "id": "189c73a2",
   "metadata": {},
   "source": [
    "<h3>C2.  Identify the initial data set variables that you will use to perform the analysis for the prediction question from part A1, and group each variable as continuous or categorical. </h3>\n",
    "\n",
    "<h4>All Variables</h4>\n",
    "<ul>\n",
    "    <li>Age</li>\n",
    "    <li>Outage_sec_perweek</li>\n",
    "    <li>Email</li>\n",
    "    <li>Contacts</li>\n",
    "    <li>Yearly_equip_failure</li>\n",
    "    <li>Tenure</li>\n",
    "    <li>MonthlyCharge</li>\n",
    "    <li>Bandwidth_GB_Year</li>\n",
    "    <li>Churn_Yes</li>\n",
    "    <li>Techie_Yes</li>\n",
    "    <li>Contract_One year</li>\n",
    "    <li>Contract_Two Year</li>\n",
    "    <li>Port_modem_Yes</li>\n",
    "    <li>Tablet_Yes</li>\n",
    "    <li>InternetService_Fiber Optic</li>\n",
    "    <li>InternetService_None</li>\n",
    "    <li>Phone_Yes</li>\n",
    "    <li>Multiple_Yes</li>\n",
    "    <li>OnlineSecurity_Yes</li>\n",
    "    <li>OnlineBackup_Yes</li>\n",
    "    <li>DeviceProtection_Yes</li>\n",
    "    <li>TechSupport_Yes</li>\n",
    "    <li>StreamingTV_Yes</li>\n",
    "    <li>StreamingMovies_Yes</li>\n",
    "    <li>PaperlessBilling_Yes</li>\n",
    "    <li>PaymentMethod_Credit Card (automatic)</li>\n",
    "    <li>PaymentMethod_Electronic Check</li>\n",
    "    <li>PaymentMethod_Mailed Check</li>\n",
    "</ul>\n",
    "<h4>Numeric</h4>\n",
    "<ul>\n",
    "    <li>Age</li>\n",
    "    <li>Outage_sec_perweek</li>\n",
    "    <li>Contacts</li>\n",
    "    <li>Yearly_equip_failure</li>\n",
    "    <li>Tenure</li>\n",
    "    <li>MonthlyCharge</li>\n",
    "    <li>Bandwidth_GB_Year</li>\n",
    "</ul>\n",
    "\n",
    "<h4>Categorical</h4>\n",
    "<ul>\n",
    "    <li>Email</li>\n",
    "    <li>Churn_Yes</li>\n",
    "    <li>Techie_Yes</li>\n",
    "    <li>Contract_One year</li>\n",
    "    <li>Contract_Two Year</li>\n",
    "    <li>Port_modem_Yes</li>\n",
    "    <li>Tablet_Yes</li>\n",
    "    <li>InternetService_Fiber Optic</li>\n",
    "    <li>InternetService_None</li>\n",
    "    <li>Phone_Yes</li>\n",
    "    <li>Multiple_Yes</li>\n",
    "    <li>OnlineSecurity_Yes</li>\n",
    "    <li>OnlineBackup_Yes</li>\n",
    "    <li>DeviceProtection_Yes</li>\n",
    "    <li>TechSupport_Yes</li>\n",
    "    <li>StreamingTV_Yes</li>\n",
    "    <li>StreamingMovies_Yes</li>\n",
    "    <li>PaperlessBilling_Yes</li>\n",
    "    <li>PaymentMethod_Credit Card (automatic)</li>\n",
    "    <li>PaymentMethod_Electronic Check</li>\n",
    "    <li>PaymentMethod_Mailed Check</li>\n",
    "\n",
    "</ul>"
   ]
  },
  {
   "cell_type": "markdown",
   "id": "826237bf",
   "metadata": {},
   "source": [
    "<h3>C3.  Explain the steps used to prepare the data for the analysis. Identify the code segment for each step.</h3>"
   ]
  },
  {
   "cell_type": "code",
   "execution_count": 1,
   "id": "1af0ee01",
   "metadata": {},
   "outputs": [],
   "source": [
    "# importing required libraries and packages\n",
    "import pandas as pd\n",
    "import numpy as np\n",
    "import matplotlib.pyplot as plt\n",
    "from sklearn.model_selection import train_test_split, cross_val_score, GridSearchCV\n",
    "from sklearn.tree import DecisionTreeClassifier\n",
    "from sklearn.metrics import mean_squared_error as MSE, confusion_matrix, classification_report, roc_auc_score, accuracy_score\n",
    "from sklearn.neighbors import KNeighborsClassifier as KNN\n",
    "from sklearn.preprocessing import MinMaxScaler"
   ]
  },
  {
   "cell_type": "code",
   "execution_count": 2,
   "id": "5b131715",
   "metadata": {},
   "outputs": [],
   "source": [
    "# importing churn csv as pandas dataframe\n",
    "churn_df = pd.read_csv('churn_clean.csv')"
   ]
  },
  {
   "cell_type": "code",
   "execution_count": 3,
   "id": "0dbf424e",
   "metadata": {},
   "outputs": [
    {
     "data": {
      "text/plain": [
       "CaseOrder               False\n",
       "Customer_id             False\n",
       "Interaction             False\n",
       "UID                     False\n",
       "City                    False\n",
       "State                   False\n",
       "County                  False\n",
       "Zip                     False\n",
       "Lat                     False\n",
       "Lng                     False\n",
       "Population              False\n",
       "Area                    False\n",
       "TimeZone                False\n",
       "Job                     False\n",
       "Children                False\n",
       "Age                     False\n",
       "Income                  False\n",
       "Marital                 False\n",
       "Gender                  False\n",
       "Churn                   False\n",
       "Outage_sec_perweek      False\n",
       "Email                   False\n",
       "Contacts                False\n",
       "Yearly_equip_failure    False\n",
       "Techie                  False\n",
       "Contract                False\n",
       "Port_modem              False\n",
       "Tablet                  False\n",
       "InternetService         False\n",
       "Phone                   False\n",
       "Multiple                False\n",
       "OnlineSecurity          False\n",
       "OnlineBackup            False\n",
       "DeviceProtection        False\n",
       "TechSupport             False\n",
       "StreamingTV             False\n",
       "StreamingMovies         False\n",
       "PaperlessBilling        False\n",
       "PaymentMethod           False\n",
       "Tenure                  False\n",
       "MonthlyCharge           False\n",
       "Bandwidth_GB_Year       False\n",
       "Item1                   False\n",
       "Item2                   False\n",
       "Item3                   False\n",
       "Item4                   False\n",
       "Item5                   False\n",
       "Item6                   False\n",
       "Item7                   False\n",
       "Item8                   False\n",
       "dtype: bool"
      ]
     },
     "execution_count": 3,
     "metadata": {},
     "output_type": "execute_result"
    }
   ],
   "source": [
    "# confirming if any values are missing or null\n",
    "churn_df.isna().any()"
   ]
  },
  {
   "cell_type": "code",
   "execution_count": 4,
   "id": "eeb0ff6b",
   "metadata": {},
   "outputs": [
    {
     "data": {
      "text/html": [
       "<div>\n",
       "<style scoped>\n",
       "    .dataframe tbody tr th:only-of-type {\n",
       "        vertical-align: middle;\n",
       "    }\n",
       "\n",
       "    .dataframe tbody tr th {\n",
       "        vertical-align: top;\n",
       "    }\n",
       "\n",
       "    .dataframe thead th {\n",
       "        text-align: right;\n",
       "    }\n",
       "</style>\n",
       "<table border=\"1\" class=\"dataframe\">\n",
       "  <thead>\n",
       "    <tr style=\"text-align: right;\">\n",
       "      <th></th>\n",
       "      <th>CaseOrder</th>\n",
       "      <th>Zip</th>\n",
       "      <th>Lat</th>\n",
       "      <th>Lng</th>\n",
       "      <th>Population</th>\n",
       "      <th>Children</th>\n",
       "      <th>Age</th>\n",
       "      <th>Income</th>\n",
       "      <th>Outage_sec_perweek</th>\n",
       "      <th>Email</th>\n",
       "      <th>...</th>\n",
       "      <th>MonthlyCharge</th>\n",
       "      <th>Bandwidth_GB_Year</th>\n",
       "      <th>Item1</th>\n",
       "      <th>Item2</th>\n",
       "      <th>Item3</th>\n",
       "      <th>Item4</th>\n",
       "      <th>Item5</th>\n",
       "      <th>Item6</th>\n",
       "      <th>Item7</th>\n",
       "      <th>Item8</th>\n",
       "    </tr>\n",
       "  </thead>\n",
       "  <tbody>\n",
       "    <tr>\n",
       "      <th>count</th>\n",
       "      <td>10000.00000</td>\n",
       "      <td>10000.000000</td>\n",
       "      <td>10000.000000</td>\n",
       "      <td>10000.000000</td>\n",
       "      <td>10000.000000</td>\n",
       "      <td>10000.0000</td>\n",
       "      <td>10000.000000</td>\n",
       "      <td>10000.000000</td>\n",
       "      <td>10000.000000</td>\n",
       "      <td>10000.000000</td>\n",
       "      <td>...</td>\n",
       "      <td>10000.000000</td>\n",
       "      <td>10000.000000</td>\n",
       "      <td>10000.000000</td>\n",
       "      <td>10000.000000</td>\n",
       "      <td>10000.000000</td>\n",
       "      <td>10000.000000</td>\n",
       "      <td>10000.000000</td>\n",
       "      <td>10000.000000</td>\n",
       "      <td>10000.000000</td>\n",
       "      <td>10000.000000</td>\n",
       "    </tr>\n",
       "    <tr>\n",
       "      <th>mean</th>\n",
       "      <td>5000.50000</td>\n",
       "      <td>49153.319600</td>\n",
       "      <td>38.757567</td>\n",
       "      <td>-90.782536</td>\n",
       "      <td>9756.562400</td>\n",
       "      <td>2.0877</td>\n",
       "      <td>53.078400</td>\n",
       "      <td>39806.926771</td>\n",
       "      <td>10.001848</td>\n",
       "      <td>12.016000</td>\n",
       "      <td>...</td>\n",
       "      <td>172.624816</td>\n",
       "      <td>3392.341550</td>\n",
       "      <td>3.490800</td>\n",
       "      <td>3.505100</td>\n",
       "      <td>3.487000</td>\n",
       "      <td>3.497500</td>\n",
       "      <td>3.492900</td>\n",
       "      <td>3.497300</td>\n",
       "      <td>3.509500</td>\n",
       "      <td>3.495600</td>\n",
       "    </tr>\n",
       "    <tr>\n",
       "      <th>std</th>\n",
       "      <td>2886.89568</td>\n",
       "      <td>27532.196108</td>\n",
       "      <td>5.437389</td>\n",
       "      <td>15.156142</td>\n",
       "      <td>14432.698671</td>\n",
       "      <td>2.1472</td>\n",
       "      <td>20.698882</td>\n",
       "      <td>28199.916702</td>\n",
       "      <td>2.976019</td>\n",
       "      <td>3.025898</td>\n",
       "      <td>...</td>\n",
       "      <td>42.943094</td>\n",
       "      <td>2185.294852</td>\n",
       "      <td>1.037797</td>\n",
       "      <td>1.034641</td>\n",
       "      <td>1.027977</td>\n",
       "      <td>1.025816</td>\n",
       "      <td>1.024819</td>\n",
       "      <td>1.033586</td>\n",
       "      <td>1.028502</td>\n",
       "      <td>1.028633</td>\n",
       "    </tr>\n",
       "    <tr>\n",
       "      <th>min</th>\n",
       "      <td>1.00000</td>\n",
       "      <td>601.000000</td>\n",
       "      <td>17.966120</td>\n",
       "      <td>-171.688150</td>\n",
       "      <td>0.000000</td>\n",
       "      <td>0.0000</td>\n",
       "      <td>18.000000</td>\n",
       "      <td>348.670000</td>\n",
       "      <td>0.099747</td>\n",
       "      <td>1.000000</td>\n",
       "      <td>...</td>\n",
       "      <td>79.978860</td>\n",
       "      <td>155.506715</td>\n",
       "      <td>1.000000</td>\n",
       "      <td>1.000000</td>\n",
       "      <td>1.000000</td>\n",
       "      <td>1.000000</td>\n",
       "      <td>1.000000</td>\n",
       "      <td>1.000000</td>\n",
       "      <td>1.000000</td>\n",
       "      <td>1.000000</td>\n",
       "    </tr>\n",
       "    <tr>\n",
       "      <th>25%</th>\n",
       "      <td>2500.75000</td>\n",
       "      <td>26292.500000</td>\n",
       "      <td>35.341827</td>\n",
       "      <td>-97.082812</td>\n",
       "      <td>738.000000</td>\n",
       "      <td>0.0000</td>\n",
       "      <td>35.000000</td>\n",
       "      <td>19224.717500</td>\n",
       "      <td>8.018214</td>\n",
       "      <td>10.000000</td>\n",
       "      <td>...</td>\n",
       "      <td>139.979239</td>\n",
       "      <td>1236.470827</td>\n",
       "      <td>3.000000</td>\n",
       "      <td>3.000000</td>\n",
       "      <td>3.000000</td>\n",
       "      <td>3.000000</td>\n",
       "      <td>3.000000</td>\n",
       "      <td>3.000000</td>\n",
       "      <td>3.000000</td>\n",
       "      <td>3.000000</td>\n",
       "    </tr>\n",
       "    <tr>\n",
       "      <th>50%</th>\n",
       "      <td>5000.50000</td>\n",
       "      <td>48869.500000</td>\n",
       "      <td>39.395800</td>\n",
       "      <td>-87.918800</td>\n",
       "      <td>2910.500000</td>\n",
       "      <td>1.0000</td>\n",
       "      <td>53.000000</td>\n",
       "      <td>33170.605000</td>\n",
       "      <td>10.018560</td>\n",
       "      <td>12.000000</td>\n",
       "      <td>...</td>\n",
       "      <td>167.484700</td>\n",
       "      <td>3279.536903</td>\n",
       "      <td>3.000000</td>\n",
       "      <td>4.000000</td>\n",
       "      <td>3.000000</td>\n",
       "      <td>3.000000</td>\n",
       "      <td>3.000000</td>\n",
       "      <td>3.000000</td>\n",
       "      <td>4.000000</td>\n",
       "      <td>3.000000</td>\n",
       "    </tr>\n",
       "    <tr>\n",
       "      <th>75%</th>\n",
       "      <td>7500.25000</td>\n",
       "      <td>71866.500000</td>\n",
       "      <td>42.106908</td>\n",
       "      <td>-80.088745</td>\n",
       "      <td>13168.000000</td>\n",
       "      <td>3.0000</td>\n",
       "      <td>71.000000</td>\n",
       "      <td>53246.170000</td>\n",
       "      <td>11.969485</td>\n",
       "      <td>14.000000</td>\n",
       "      <td>...</td>\n",
       "      <td>200.734725</td>\n",
       "      <td>5586.141369</td>\n",
       "      <td>4.000000</td>\n",
       "      <td>4.000000</td>\n",
       "      <td>4.000000</td>\n",
       "      <td>4.000000</td>\n",
       "      <td>4.000000</td>\n",
       "      <td>4.000000</td>\n",
       "      <td>4.000000</td>\n",
       "      <td>4.000000</td>\n",
       "    </tr>\n",
       "    <tr>\n",
       "      <th>max</th>\n",
       "      <td>10000.00000</td>\n",
       "      <td>99929.000000</td>\n",
       "      <td>70.640660</td>\n",
       "      <td>-65.667850</td>\n",
       "      <td>111850.000000</td>\n",
       "      <td>10.0000</td>\n",
       "      <td>89.000000</td>\n",
       "      <td>258900.700000</td>\n",
       "      <td>21.207230</td>\n",
       "      <td>23.000000</td>\n",
       "      <td>...</td>\n",
       "      <td>290.160419</td>\n",
       "      <td>7158.981530</td>\n",
       "      <td>7.000000</td>\n",
       "      <td>7.000000</td>\n",
       "      <td>8.000000</td>\n",
       "      <td>7.000000</td>\n",
       "      <td>7.000000</td>\n",
       "      <td>8.000000</td>\n",
       "      <td>7.000000</td>\n",
       "      <td>8.000000</td>\n",
       "    </tr>\n",
       "  </tbody>\n",
       "</table>\n",
       "<p>8 rows × 23 columns</p>\n",
       "</div>"
      ],
      "text/plain": [
       "         CaseOrder           Zip           Lat           Lng     Population  \\\n",
       "count  10000.00000  10000.000000  10000.000000  10000.000000   10000.000000   \n",
       "mean    5000.50000  49153.319600     38.757567    -90.782536    9756.562400   \n",
       "std     2886.89568  27532.196108      5.437389     15.156142   14432.698671   \n",
       "min        1.00000    601.000000     17.966120   -171.688150       0.000000   \n",
       "25%     2500.75000  26292.500000     35.341827    -97.082812     738.000000   \n",
       "50%     5000.50000  48869.500000     39.395800    -87.918800    2910.500000   \n",
       "75%     7500.25000  71866.500000     42.106908    -80.088745   13168.000000   \n",
       "max    10000.00000  99929.000000     70.640660    -65.667850  111850.000000   \n",
       "\n",
       "         Children           Age         Income  Outage_sec_perweek  \\\n",
       "count  10000.0000  10000.000000   10000.000000        10000.000000   \n",
       "mean       2.0877     53.078400   39806.926771           10.001848   \n",
       "std        2.1472     20.698882   28199.916702            2.976019   \n",
       "min        0.0000     18.000000     348.670000            0.099747   \n",
       "25%        0.0000     35.000000   19224.717500            8.018214   \n",
       "50%        1.0000     53.000000   33170.605000           10.018560   \n",
       "75%        3.0000     71.000000   53246.170000           11.969485   \n",
       "max       10.0000     89.000000  258900.700000           21.207230   \n",
       "\n",
       "              Email  ...  MonthlyCharge  Bandwidth_GB_Year         Item1  \\\n",
       "count  10000.000000  ...   10000.000000       10000.000000  10000.000000   \n",
       "mean      12.016000  ...     172.624816        3392.341550      3.490800   \n",
       "std        3.025898  ...      42.943094        2185.294852      1.037797   \n",
       "min        1.000000  ...      79.978860         155.506715      1.000000   \n",
       "25%       10.000000  ...     139.979239        1236.470827      3.000000   \n",
       "50%       12.000000  ...     167.484700        3279.536903      3.000000   \n",
       "75%       14.000000  ...     200.734725        5586.141369      4.000000   \n",
       "max       23.000000  ...     290.160419        7158.981530      7.000000   \n",
       "\n",
       "              Item2         Item3         Item4         Item5         Item6  \\\n",
       "count  10000.000000  10000.000000  10000.000000  10000.000000  10000.000000   \n",
       "mean       3.505100      3.487000      3.497500      3.492900      3.497300   \n",
       "std        1.034641      1.027977      1.025816      1.024819      1.033586   \n",
       "min        1.000000      1.000000      1.000000      1.000000      1.000000   \n",
       "25%        3.000000      3.000000      3.000000      3.000000      3.000000   \n",
       "50%        4.000000      3.000000      3.000000      3.000000      3.000000   \n",
       "75%        4.000000      4.000000      4.000000      4.000000      4.000000   \n",
       "max        7.000000      8.000000      7.000000      7.000000      8.000000   \n",
       "\n",
       "              Item7         Item8  \n",
       "count  10000.000000  10000.000000  \n",
       "mean       3.509500      3.495600  \n",
       "std        1.028502      1.028633  \n",
       "min        1.000000      1.000000  \n",
       "25%        3.000000      3.000000  \n",
       "50%        4.000000      3.000000  \n",
       "75%        4.000000      4.000000  \n",
       "max        7.000000      8.000000  \n",
       "\n",
       "[8 rows x 23 columns]"
      ]
     },
     "execution_count": 4,
     "metadata": {},
     "output_type": "execute_result"
    }
   ],
   "source": [
    "# Summary Statistics for all numerical variables contained in initial DataSet\n",
    "churn_df.describe()"
   ]
  },
  {
   "cell_type": "code",
   "execution_count": 5,
   "id": "03a71805",
   "metadata": {
    "scrolled": true
   },
   "outputs": [
    {
     "data": {
      "text/plain": [
       "['CaseOrder',\n",
       " 'Customer_id',\n",
       " 'Interaction',\n",
       " 'UID',\n",
       " 'City',\n",
       " 'State',\n",
       " 'County',\n",
       " 'Zip',\n",
       " 'Lat',\n",
       " 'Lng',\n",
       " 'Population',\n",
       " 'Area',\n",
       " 'TimeZone',\n",
       " 'Job',\n",
       " 'Children',\n",
       " 'Age',\n",
       " 'Income',\n",
       " 'Marital',\n",
       " 'Gender',\n",
       " 'Churn',\n",
       " 'Outage_sec_perweek',\n",
       " 'Email',\n",
       " 'Contacts',\n",
       " 'Yearly_equip_failure',\n",
       " 'Techie',\n",
       " 'Contract',\n",
       " 'Port_modem',\n",
       " 'Tablet',\n",
       " 'InternetService',\n",
       " 'Phone',\n",
       " 'Multiple',\n",
       " 'OnlineSecurity',\n",
       " 'OnlineBackup',\n",
       " 'DeviceProtection',\n",
       " 'TechSupport',\n",
       " 'StreamingTV',\n",
       " 'StreamingMovies',\n",
       " 'PaperlessBilling',\n",
       " 'PaymentMethod',\n",
       " 'Tenure',\n",
       " 'MonthlyCharge',\n",
       " 'Bandwidth_GB_Year',\n",
       " 'Item1',\n",
       " 'Item2',\n",
       " 'Item3',\n",
       " 'Item4',\n",
       " 'Item5',\n",
       " 'Item6',\n",
       " 'Item7',\n",
       " 'Item8']"
      ]
     },
     "execution_count": 5,
     "metadata": {},
     "output_type": "execute_result"
    }
   ],
   "source": [
    "# generating list of all original columns in dataframe\n",
    "list(churn_df.columns)"
   ]
  },
  {
   "cell_type": "code",
   "execution_count": 6,
   "id": "70267e42",
   "metadata": {},
   "outputs": [],
   "source": [
    "# creating list of unique areas\n",
    "a = churn_df['Area'].unique()\n",
    "\n",
    "# creating empty area dictionary\n",
    "ad = {}\n",
    "\n",
    "# Creating dictionary associating area with median population\n",
    "for i in a:\n",
    "    ad[i] = churn_df.loc[churn_df['Area'] == i]['Population'].mean()\n",
    "    \n",
    "# assign mean population for area to records with 0 for population value\n",
    "for key, value in ad.items():\n",
    "    churn_df.loc[(churn_df['Population'] == 0) & (churn_df['Area'] == key), 'Population'] = value    "
   ]
  },
  {
   "cell_type": "code",
   "execution_count": 7,
   "id": "e19847a5",
   "metadata": {},
   "outputs": [
    {
     "data": {
      "text/html": [
       "<div>\n",
       "<style scoped>\n",
       "    .dataframe tbody tr th:only-of-type {\n",
       "        vertical-align: middle;\n",
       "    }\n",
       "\n",
       "    .dataframe tbody tr th {\n",
       "        vertical-align: top;\n",
       "    }\n",
       "\n",
       "    .dataframe thead th {\n",
       "        text-align: right;\n",
       "    }\n",
       "</style>\n",
       "<table border=\"1\" class=\"dataframe\">\n",
       "  <thead>\n",
       "    <tr style=\"text-align: right;\">\n",
       "      <th></th>\n",
       "      <th>CaseOrder</th>\n",
       "      <th>Zip</th>\n",
       "      <th>Lat</th>\n",
       "      <th>Lng</th>\n",
       "      <th>Population</th>\n",
       "      <th>Children</th>\n",
       "      <th>Age</th>\n",
       "      <th>Income</th>\n",
       "      <th>Outage_sec_perweek</th>\n",
       "      <th>Email</th>\n",
       "      <th>...</th>\n",
       "      <th>MonthlyCharge</th>\n",
       "      <th>Bandwidth_GB_Year</th>\n",
       "      <th>Item1</th>\n",
       "      <th>Item2</th>\n",
       "      <th>Item3</th>\n",
       "      <th>Item4</th>\n",
       "      <th>Item5</th>\n",
       "      <th>Item6</th>\n",
       "      <th>Item7</th>\n",
       "      <th>Item8</th>\n",
       "    </tr>\n",
       "  </thead>\n",
       "  <tbody>\n",
       "    <tr>\n",
       "      <th>count</th>\n",
       "      <td>10000.00000</td>\n",
       "      <td>10000.000000</td>\n",
       "      <td>10000.000000</td>\n",
       "      <td>10000.000000</td>\n",
       "      <td>10000.000000</td>\n",
       "      <td>10000.0000</td>\n",
       "      <td>10000.000000</td>\n",
       "      <td>10000.000000</td>\n",
       "      <td>10000.000000</td>\n",
       "      <td>10000.000000</td>\n",
       "      <td>...</td>\n",
       "      <td>10000.000000</td>\n",
       "      <td>10000.000000</td>\n",
       "      <td>10000.000000</td>\n",
       "      <td>10000.000000</td>\n",
       "      <td>10000.000000</td>\n",
       "      <td>10000.000000</td>\n",
       "      <td>10000.000000</td>\n",
       "      <td>10000.000000</td>\n",
       "      <td>10000.000000</td>\n",
       "      <td>10000.000000</td>\n",
       "    </tr>\n",
       "    <tr>\n",
       "      <th>mean</th>\n",
       "      <td>5000.50000</td>\n",
       "      <td>49153.319600</td>\n",
       "      <td>38.757567</td>\n",
       "      <td>-90.782536</td>\n",
       "      <td>9851.073089</td>\n",
       "      <td>2.0877</td>\n",
       "      <td>53.078400</td>\n",
       "      <td>39806.926771</td>\n",
       "      <td>10.001848</td>\n",
       "      <td>12.016000</td>\n",
       "      <td>...</td>\n",
       "      <td>172.624816</td>\n",
       "      <td>3392.341550</td>\n",
       "      <td>3.490800</td>\n",
       "      <td>3.505100</td>\n",
       "      <td>3.487000</td>\n",
       "      <td>3.497500</td>\n",
       "      <td>3.492900</td>\n",
       "      <td>3.497300</td>\n",
       "      <td>3.509500</td>\n",
       "      <td>3.495600</td>\n",
       "    </tr>\n",
       "    <tr>\n",
       "      <th>std</th>\n",
       "      <td>2886.89568</td>\n",
       "      <td>27532.196108</td>\n",
       "      <td>5.437389</td>\n",
       "      <td>15.156142</td>\n",
       "      <td>14400.373732</td>\n",
       "      <td>2.1472</td>\n",
       "      <td>20.698882</td>\n",
       "      <td>28199.916702</td>\n",
       "      <td>2.976019</td>\n",
       "      <td>3.025898</td>\n",
       "      <td>...</td>\n",
       "      <td>42.943094</td>\n",
       "      <td>2185.294852</td>\n",
       "      <td>1.037797</td>\n",
       "      <td>1.034641</td>\n",
       "      <td>1.027977</td>\n",
       "      <td>1.025816</td>\n",
       "      <td>1.024819</td>\n",
       "      <td>1.033586</td>\n",
       "      <td>1.028502</td>\n",
       "      <td>1.028633</td>\n",
       "    </tr>\n",
       "    <tr>\n",
       "      <th>min</th>\n",
       "      <td>1.00000</td>\n",
       "      <td>601.000000</td>\n",
       "      <td>17.966120</td>\n",
       "      <td>-171.688150</td>\n",
       "      <td>2.000000</td>\n",
       "      <td>0.0000</td>\n",
       "      <td>18.000000</td>\n",
       "      <td>348.670000</td>\n",
       "      <td>0.099747</td>\n",
       "      <td>1.000000</td>\n",
       "      <td>...</td>\n",
       "      <td>79.978860</td>\n",
       "      <td>155.506715</td>\n",
       "      <td>1.000000</td>\n",
       "      <td>1.000000</td>\n",
       "      <td>1.000000</td>\n",
       "      <td>1.000000</td>\n",
       "      <td>1.000000</td>\n",
       "      <td>1.000000</td>\n",
       "      <td>1.000000</td>\n",
       "      <td>1.000000</td>\n",
       "    </tr>\n",
       "    <tr>\n",
       "      <th>25%</th>\n",
       "      <td>2500.75000</td>\n",
       "      <td>26292.500000</td>\n",
       "      <td>35.341827</td>\n",
       "      <td>-97.082812</td>\n",
       "      <td>782.000000</td>\n",
       "      <td>0.0000</td>\n",
       "      <td>35.000000</td>\n",
       "      <td>19224.717500</td>\n",
       "      <td>8.018214</td>\n",
       "      <td>10.000000</td>\n",
       "      <td>...</td>\n",
       "      <td>139.979239</td>\n",
       "      <td>1236.470827</td>\n",
       "      <td>3.000000</td>\n",
       "      <td>3.000000</td>\n",
       "      <td>3.000000</td>\n",
       "      <td>3.000000</td>\n",
       "      <td>3.000000</td>\n",
       "      <td>3.000000</td>\n",
       "      <td>3.000000</td>\n",
       "      <td>3.000000</td>\n",
       "    </tr>\n",
       "    <tr>\n",
       "      <th>50%</th>\n",
       "      <td>5000.50000</td>\n",
       "      <td>48869.500000</td>\n",
       "      <td>39.395800</td>\n",
       "      <td>-87.918800</td>\n",
       "      <td>3064.000000</td>\n",
       "      <td>1.0000</td>\n",
       "      <td>53.000000</td>\n",
       "      <td>33170.605000</td>\n",
       "      <td>10.018560</td>\n",
       "      <td>12.000000</td>\n",
       "      <td>...</td>\n",
       "      <td>167.484700</td>\n",
       "      <td>3279.536903</td>\n",
       "      <td>3.000000</td>\n",
       "      <td>4.000000</td>\n",
       "      <td>3.000000</td>\n",
       "      <td>3.000000</td>\n",
       "      <td>3.000000</td>\n",
       "      <td>3.000000</td>\n",
       "      <td>4.000000</td>\n",
       "      <td>3.000000</td>\n",
       "    </tr>\n",
       "    <tr>\n",
       "      <th>75%</th>\n",
       "      <td>7500.25000</td>\n",
       "      <td>71866.500000</td>\n",
       "      <td>42.106908</td>\n",
       "      <td>-80.088745</td>\n",
       "      <td>13168.000000</td>\n",
       "      <td>3.0000</td>\n",
       "      <td>71.000000</td>\n",
       "      <td>53246.170000</td>\n",
       "      <td>11.969485</td>\n",
       "      <td>14.000000</td>\n",
       "      <td>...</td>\n",
       "      <td>200.734725</td>\n",
       "      <td>5586.141369</td>\n",
       "      <td>4.000000</td>\n",
       "      <td>4.000000</td>\n",
       "      <td>4.000000</td>\n",
       "      <td>4.000000</td>\n",
       "      <td>4.000000</td>\n",
       "      <td>4.000000</td>\n",
       "      <td>4.000000</td>\n",
       "      <td>4.000000</td>\n",
       "    </tr>\n",
       "    <tr>\n",
       "      <th>max</th>\n",
       "      <td>10000.00000</td>\n",
       "      <td>99929.000000</td>\n",
       "      <td>70.640660</td>\n",
       "      <td>-65.667850</td>\n",
       "      <td>111850.000000</td>\n",
       "      <td>10.0000</td>\n",
       "      <td>89.000000</td>\n",
       "      <td>258900.700000</td>\n",
       "      <td>21.207230</td>\n",
       "      <td>23.000000</td>\n",
       "      <td>...</td>\n",
       "      <td>290.160419</td>\n",
       "      <td>7158.981530</td>\n",
       "      <td>7.000000</td>\n",
       "      <td>7.000000</td>\n",
       "      <td>8.000000</td>\n",
       "      <td>7.000000</td>\n",
       "      <td>7.000000</td>\n",
       "      <td>8.000000</td>\n",
       "      <td>7.000000</td>\n",
       "      <td>8.000000</td>\n",
       "    </tr>\n",
       "  </tbody>\n",
       "</table>\n",
       "<p>8 rows × 23 columns</p>\n",
       "</div>"
      ],
      "text/plain": [
       "         CaseOrder           Zip           Lat           Lng     Population  \\\n",
       "count  10000.00000  10000.000000  10000.000000  10000.000000   10000.000000   \n",
       "mean    5000.50000  49153.319600     38.757567    -90.782536    9851.073089   \n",
       "std     2886.89568  27532.196108      5.437389     15.156142   14400.373732   \n",
       "min        1.00000    601.000000     17.966120   -171.688150       2.000000   \n",
       "25%     2500.75000  26292.500000     35.341827    -97.082812     782.000000   \n",
       "50%     5000.50000  48869.500000     39.395800    -87.918800    3064.000000   \n",
       "75%     7500.25000  71866.500000     42.106908    -80.088745   13168.000000   \n",
       "max    10000.00000  99929.000000     70.640660    -65.667850  111850.000000   \n",
       "\n",
       "         Children           Age         Income  Outage_sec_perweek  \\\n",
       "count  10000.0000  10000.000000   10000.000000        10000.000000   \n",
       "mean       2.0877     53.078400   39806.926771           10.001848   \n",
       "std        2.1472     20.698882   28199.916702            2.976019   \n",
       "min        0.0000     18.000000     348.670000            0.099747   \n",
       "25%        0.0000     35.000000   19224.717500            8.018214   \n",
       "50%        1.0000     53.000000   33170.605000           10.018560   \n",
       "75%        3.0000     71.000000   53246.170000           11.969485   \n",
       "max       10.0000     89.000000  258900.700000           21.207230   \n",
       "\n",
       "              Email  ...  MonthlyCharge  Bandwidth_GB_Year         Item1  \\\n",
       "count  10000.000000  ...   10000.000000       10000.000000  10000.000000   \n",
       "mean      12.016000  ...     172.624816        3392.341550      3.490800   \n",
       "std        3.025898  ...      42.943094        2185.294852      1.037797   \n",
       "min        1.000000  ...      79.978860         155.506715      1.000000   \n",
       "25%       10.000000  ...     139.979239        1236.470827      3.000000   \n",
       "50%       12.000000  ...     167.484700        3279.536903      3.000000   \n",
       "75%       14.000000  ...     200.734725        5586.141369      4.000000   \n",
       "max       23.000000  ...     290.160419        7158.981530      7.000000   \n",
       "\n",
       "              Item2         Item3         Item4         Item5         Item6  \\\n",
       "count  10000.000000  10000.000000  10000.000000  10000.000000  10000.000000   \n",
       "mean       3.505100      3.487000      3.497500      3.492900      3.497300   \n",
       "std        1.034641      1.027977      1.025816      1.024819      1.033586   \n",
       "min        1.000000      1.000000      1.000000      1.000000      1.000000   \n",
       "25%        3.000000      3.000000      3.000000      3.000000      3.000000   \n",
       "50%        4.000000      3.000000      3.000000      3.000000      3.000000   \n",
       "75%        4.000000      4.000000      4.000000      4.000000      4.000000   \n",
       "max        7.000000      8.000000      7.000000      7.000000      8.000000   \n",
       "\n",
       "              Item7         Item8  \n",
       "count  10000.000000  10000.000000  \n",
       "mean       3.509500      3.495600  \n",
       "std        1.028502      1.028633  \n",
       "min        1.000000      1.000000  \n",
       "25%        3.000000      3.000000  \n",
       "50%        4.000000      3.000000  \n",
       "75%        4.000000      4.000000  \n",
       "max        7.000000      8.000000  \n",
       "\n",
       "[8 rows x 23 columns]"
      ]
     },
     "execution_count": 7,
     "metadata": {},
     "output_type": "execute_result"
    }
   ],
   "source": [
    "# summary statistics for initial DataFrame\n",
    "churn_df.describe()"
   ]
  },
  {
   "cell_type": "code",
   "execution_count": 8,
   "id": "0f374afb",
   "metadata": {},
   "outputs": [
    {
     "data": {
      "text/html": [
       "<div>\n",
       "<style scoped>\n",
       "    .dataframe tbody tr th:only-of-type {\n",
       "        vertical-align: middle;\n",
       "    }\n",
       "\n",
       "    .dataframe tbody tr th {\n",
       "        vertical-align: top;\n",
       "    }\n",
       "\n",
       "    .dataframe thead th {\n",
       "        text-align: right;\n",
       "    }\n",
       "</style>\n",
       "<table border=\"1\" class=\"dataframe\">\n",
       "  <thead>\n",
       "    <tr style=\"text-align: right;\">\n",
       "      <th></th>\n",
       "      <th>Age</th>\n",
       "      <th>Churn</th>\n",
       "      <th>Outage_sec_perweek</th>\n",
       "      <th>Email</th>\n",
       "      <th>Contacts</th>\n",
       "      <th>Yearly_equip_failure</th>\n",
       "      <th>Techie</th>\n",
       "      <th>Contract</th>\n",
       "      <th>Port_modem</th>\n",
       "      <th>Tablet</th>\n",
       "      <th>...</th>\n",
       "      <th>OnlineBackup</th>\n",
       "      <th>DeviceProtection</th>\n",
       "      <th>TechSupport</th>\n",
       "      <th>StreamingTV</th>\n",
       "      <th>StreamingMovies</th>\n",
       "      <th>PaperlessBilling</th>\n",
       "      <th>PaymentMethod</th>\n",
       "      <th>Tenure</th>\n",
       "      <th>MonthlyCharge</th>\n",
       "      <th>Bandwidth_GB_Year</th>\n",
       "    </tr>\n",
       "  </thead>\n",
       "  <tbody>\n",
       "    <tr>\n",
       "      <th>0</th>\n",
       "      <td>68</td>\n",
       "      <td>No</td>\n",
       "      <td>7.978323</td>\n",
       "      <td>10</td>\n",
       "      <td>0</td>\n",
       "      <td>1</td>\n",
       "      <td>No</td>\n",
       "      <td>One year</td>\n",
       "      <td>Yes</td>\n",
       "      <td>Yes</td>\n",
       "      <td>...</td>\n",
       "      <td>Yes</td>\n",
       "      <td>No</td>\n",
       "      <td>No</td>\n",
       "      <td>No</td>\n",
       "      <td>Yes</td>\n",
       "      <td>Yes</td>\n",
       "      <td>Credit Card (automatic)</td>\n",
       "      <td>6.795513</td>\n",
       "      <td>172.455519</td>\n",
       "      <td>904.536110</td>\n",
       "    </tr>\n",
       "    <tr>\n",
       "      <th>1</th>\n",
       "      <td>27</td>\n",
       "      <td>Yes</td>\n",
       "      <td>11.699080</td>\n",
       "      <td>12</td>\n",
       "      <td>0</td>\n",
       "      <td>1</td>\n",
       "      <td>Yes</td>\n",
       "      <td>Month-to-month</td>\n",
       "      <td>No</td>\n",
       "      <td>Yes</td>\n",
       "      <td>...</td>\n",
       "      <td>No</td>\n",
       "      <td>No</td>\n",
       "      <td>No</td>\n",
       "      <td>Yes</td>\n",
       "      <td>Yes</td>\n",
       "      <td>Yes</td>\n",
       "      <td>Bank Transfer(automatic)</td>\n",
       "      <td>1.156681</td>\n",
       "      <td>242.632554</td>\n",
       "      <td>800.982766</td>\n",
       "    </tr>\n",
       "  </tbody>\n",
       "</table>\n",
       "<p>2 rows × 24 columns</p>\n",
       "</div>"
      ],
      "text/plain": [
       "   Age Churn  Outage_sec_perweek  Email  Contacts  Yearly_equip_failure  \\\n",
       "0   68    No            7.978323     10         0                     1   \n",
       "1   27   Yes           11.699080     12         0                     1   \n",
       "\n",
       "  Techie        Contract Port_modem Tablet  ... OnlineBackup DeviceProtection  \\\n",
       "0     No        One year        Yes    Yes  ...          Yes               No   \n",
       "1    Yes  Month-to-month         No    Yes  ...           No               No   \n",
       "\n",
       "  TechSupport StreamingTV StreamingMovies PaperlessBilling  \\\n",
       "0          No          No             Yes              Yes   \n",
       "1          No         Yes             Yes              Yes   \n",
       "\n",
       "              PaymentMethod    Tenure MonthlyCharge Bandwidth_GB_Year  \n",
       "0   Credit Card (automatic)  6.795513    172.455519        904.536110  \n",
       "1  Bank Transfer(automatic)  1.156681    242.632554        800.982766  \n",
       "\n",
       "[2 rows x 24 columns]"
      ]
     },
     "execution_count": 8,
     "metadata": {},
     "output_type": "execute_result"
    }
   ],
   "source": [
    "# Dropping columnsnot required for current analysis\n",
    "churn_df = churn_df.drop(columns=['Customer_id','CaseOrder', 'Interaction', 'City', 'State', 'County', 'Zip', \n",
    "                      'UID', 'Lat', 'Lng', 'Population', 'Area', 'TimeZone', 'Job', 'Children',\n",
    "                      'Gender', 'Income', 'Marital',\n",
    "                      'Item1', 'Item2', 'Item3', 'Item4','Item5', 'Item6', 'Item7', 'Item8'])\n",
    "\n",
    "churn_df.head(2)"
   ]
  },
  {
   "cell_type": "code",
   "execution_count": 9,
   "id": "0ec51a89",
   "metadata": {},
   "outputs": [
    {
     "data": {
      "text/plain": [
       "['Age',\n",
       " 'Outage_sec_perweek',\n",
       " 'Email',\n",
       " 'Contacts',\n",
       " 'Yearly_equip_failure',\n",
       " 'Tenure',\n",
       " 'MonthlyCharge',\n",
       " 'Bandwidth_GB_Year',\n",
       " 'Churn_Yes',\n",
       " 'Techie_Yes',\n",
       " 'Contract_One year',\n",
       " 'Contract_Two Year',\n",
       " 'Port_modem_Yes',\n",
       " 'Tablet_Yes',\n",
       " 'InternetService_Fiber Optic',\n",
       " 'InternetService_None',\n",
       " 'Phone_Yes',\n",
       " 'Multiple_Yes',\n",
       " 'OnlineSecurity_Yes',\n",
       " 'OnlineBackup_Yes',\n",
       " 'DeviceProtection_Yes',\n",
       " 'TechSupport_Yes',\n",
       " 'StreamingTV_Yes',\n",
       " 'StreamingMovies_Yes',\n",
       " 'PaperlessBilling_Yes',\n",
       " 'PaymentMethod_Credit Card (automatic)',\n",
       " 'PaymentMethod_Electronic Check',\n",
       " 'PaymentMethod_Mailed Check']"
      ]
     },
     "execution_count": 9,
     "metadata": {},
     "output_type": "execute_result"
    }
   ],
   "source": [
    "# Creating dummy variables\n",
    "df_dummies = pd.get_dummies(churn_df, drop_first = True)\n",
    "# generating list of all columns in dummies dataframe\n",
    "list(df_dummies.columns)"
   ]
  },
  {
   "cell_type": "code",
   "execution_count": 10,
   "id": "93258e29",
   "metadata": {},
   "outputs": [
    {
     "name": "stdout",
     "output_type": "stream",
     "text": [
      "Index(['Age', 'Churn', 'Outage_sec_perweek', 'Email', 'Contacts',\n",
      "       'Yearly_equip_failure', 'Techie', 'Contract', 'Port_modem', 'Tablet',\n",
      "       'InternetService', 'Phone', 'Multiple', 'OnlineSecurity',\n",
      "       'OnlineBackup', 'DeviceProtection', 'TechSupport', 'StreamingTV',\n",
      "       'StreamingMovies', 'PaperlessBilling', 'PaymentMethod', 'Tenure',\n",
      "       'MonthlyCharge', 'Bandwidth_GB_Year'],\n",
      "      dtype='object')\n"
     ]
    }
   ],
   "source": [
    "print(churn_df.keys())"
   ]
  },
  {
   "cell_type": "markdown",
   "id": "692f2175",
   "metadata": {},
   "source": [
    "<h3>C4.  Provide a copy of the cleaned data set.</h3>"
   ]
  },
  {
   "cell_type": "code",
   "execution_count": 11,
   "id": "59d0def9",
   "metadata": {},
   "outputs": [],
   "source": [
    "# Exporting full cleaned dataframe to csv\n",
    "churn_df.to_csv('churn_df.csv', index=False)\n",
    "\n",
    "# Exporting full cleaned dataframe with dummies to csv\n",
    "df_dummies.to_csv('df_dummies.csv', index=False)"
   ]
  },
  {
   "cell_type": "markdown",
   "id": "4f6cdc5d",
   "metadata": {},
   "source": [
    "<h3>Part IV.  Analysis</h3>"
   ]
  },
  {
   "cell_type": "markdown",
   "id": "fb3fd882",
   "metadata": {},
   "source": [
    "<h3>D.  Perform the data analysis and report on the results by doing the following:</h3>"
   ]
  },
  {
   "cell_type": "markdown",
   "id": "5865b619",
   "metadata": {},
   "source": [
    "<h3>D1.  Split the data into training and test data sets and provide the file(s).</h3>"
   ]
  },
  {
   "cell_type": "code",
   "execution_count": 12,
   "id": "d6815352",
   "metadata": {},
   "outputs": [],
   "source": [
    "# Seperating variables for training/testing\n",
    "X = df_dummies[['Age',\n",
    " 'Outage_sec_perweek',\n",
    " 'Email',\n",
    " 'Contacts',\n",
    " 'Yearly_equip_failure',\n",
    " 'Tenure',\n",
    " 'MonthlyCharge',\n",
    " 'Bandwidth_GB_Year',\n",
    " 'Churn_Yes',\n",
    " 'Contract_One year',\n",
    " 'Contract_Two Year',\n",
    " 'Port_modem_Yes',\n",
    " 'Tablet_Yes',\n",
    " 'InternetService_Fiber Optic',\n",
    " 'InternetService_None',\n",
    " 'Phone_Yes',\n",
    " 'Multiple_Yes',\n",
    " 'OnlineSecurity_Yes',\n",
    " 'OnlineBackup_Yes',\n",
    " 'DeviceProtection_Yes',\n",
    " 'TechSupport_Yes',\n",
    " 'StreamingTV_Yes',\n",
    " 'StreamingMovies_Yes',\n",
    " 'PaperlessBilling_Yes',\n",
    " 'PaymentMethod_Credit Card (automatic)',\n",
    " 'PaymentMethod_Electronic Check',\n",
    " 'PaymentMethod_Mailed Check']]\n",
    "y = df_dummies['Techie_Yes']"
   ]
  },
  {
   "cell_type": "code",
   "execution_count": 13,
   "id": "6a10fcfa",
   "metadata": {},
   "outputs": [],
   "source": [
    "# splitting dataset for training test ssplit\n",
    "X_train, X_test, y_train, y_test = train_test_split(X, y, test_size=.3, random_state=42, stratify=y)"
   ]
  },
  {
   "cell_type": "code",
   "execution_count": 14,
   "id": "f5047129",
   "metadata": {},
   "outputs": [],
   "source": [
    "# outputting training/testing data to csv files\n",
    "X_train.to_csv('X_train.csv', index=False)\n",
    "y_train.to_csv('y_train.csv', index=False)\n",
    "X_test.to_csv('X_test.csv', index=False)\n",
    "y_test.to_csv('y_test.csv', index=False)"
   ]
  },
  {
   "cell_type": "markdown",
   "id": "7324ecbe",
   "metadata": {},
   "source": [
    "<h3>D2.  Describe the analysis technique you used to appropriately analyze the data. Include screenshots of the intermediate calculations you performed.</h3>\n",
    "\n"
   ]
  },
  {
   "cell_type": "code",
   "execution_count": 15,
   "id": "80e52556",
   "metadata": {},
   "outputs": [],
   "source": [
    "scaler = MinMaxScaler()\n",
    "X_train_scaled = scaler.fit_transform(X_train)\n",
    "# we must apply the scaling to the test set that we computed for the training set\n",
    "X_test_scaled = scaler.transform(X_test)"
   ]
  },
  {
   "cell_type": "code",
   "execution_count": 16,
   "id": "238bf65e",
   "metadata": {},
   "outputs": [
    {
     "data": {
      "text/plain": [
       "KNeighborsClassifier()"
      ]
     },
     "execution_count": 16,
     "metadata": {},
     "output_type": "execute_result"
    }
   ],
   "source": [
    "knn = KNN(n_neighbors = 5) #setting up the KNN model to use 5NN\n",
    "knn.fit(X_train_scaled, y_train) #fitting the KNN"
   ]
  },
  {
   "cell_type": "code",
   "execution_count": 17,
   "id": "30936fff",
   "metadata": {},
   "outputs": [
    {
     "name": "stdout",
     "output_type": "stream",
     "text": [
      "Accuracy of K-NN classifier on training set: 0.84\n",
      "Accuracy of K-NN classifier on test set: 0.81\n"
     ]
    }
   ],
   "source": [
    "#Checking performance on the training set\n",
    "print('Accuracy of K-NN classifier on training set: {:.2f}'\n",
    "     .format(knn.score(X_train_scaled, y_train)))\n",
    "#Checking performance on the test set\n",
    "print('Accuracy of K-NN classifier on test set: {:.2f}'\n",
    "     .format(knn.score(X_test_scaled, y_test)))"
   ]
  },
  {
   "cell_type": "markdown",
   "id": "1e0eeba8",
   "metadata": {},
   "source": [
    "<h3>D3.  Provide the code used to perform the prediction analysis from part D2.</h3>"
   ]
  },
  {
   "cell_type": "code",
   "execution_count": 18,
   "id": "64fa8c1c",
   "metadata": {},
   "outputs": [],
   "source": [
    "# Setting the seed\n",
    "SEED = 24"
   ]
  },
  {
   "cell_type": "code",
   "execution_count": 19,
   "id": "693a6ba9",
   "metadata": {},
   "outputs": [],
   "source": [
    "# Instantiate KNN\n",
    "knn = KNN(n_neighbors=27)\n",
    "\n",
    "param_grid = {'n_neighbors': np.arange(1, 50)}\n",
    "knn_cv = GridSearchCV(knn, param_grid)"
   ]
  },
  {
   "cell_type": "code",
   "execution_count": 20,
   "id": "8a0d5636",
   "metadata": {},
   "outputs": [
    {
     "data": {
      "text/plain": [
       "GridSearchCV(estimator=KNeighborsClassifier(n_neighbors=27),\n",
       "             param_grid={'n_neighbors': array([ 1,  2,  3,  4,  5,  6,  7,  8,  9, 10, 11, 12, 13, 14, 15, 16, 17,\n",
       "       18, 19, 20, 21, 22, 23, 24, 25, 26, 27, 28, 29, 30, 31, 32, 33, 34,\n",
       "       35, 36, 37, 38, 39, 40, 41, 42, 43, 44, 45, 46, 47, 48, 49])})"
      ]
     },
     "execution_count": 20,
     "metadata": {},
     "output_type": "execute_result"
    }
   ],
   "source": [
    "knn.fit(X_train, y_train)\n",
    "knn_cv.fit(X_train, y_train)"
   ]
  },
  {
   "cell_type": "code",
   "execution_count": 21,
   "id": "fc2993ad",
   "metadata": {},
   "outputs": [
    {
     "data": {
      "text/plain": [
       "{'n_neighbors': 22}"
      ]
     },
     "execution_count": 21,
     "metadata": {},
     "output_type": "execute_result"
    }
   ],
   "source": [
    "# using gridsearchcv to review models best_params_\n",
    "knn_cv.best_params_"
   ]
  },
  {
   "cell_type": "code",
   "execution_count": 22,
   "id": "53d10fcb",
   "metadata": {},
   "outputs": [
    {
     "data": {
      "text/plain": [
       "0.8324285714285715"
      ]
     },
     "execution_count": 22,
     "metadata": {},
     "output_type": "execute_result"
    }
   ],
   "source": [
    "# using gridsearchcv to review models best_score_\n",
    "knn_cv.best_score_"
   ]
  },
  {
   "cell_type": "code",
   "execution_count": 23,
   "id": "efde929e",
   "metadata": {},
   "outputs": [],
   "source": [
    "y_pred = knn.predict(X_test)\n",
    "y_pred_prob = knn.predict_proba(X_test)[:,1]"
   ]
  },
  {
   "cell_type": "code",
   "execution_count": 24,
   "id": "74bbe52b",
   "metadata": {},
   "outputs": [
    {
     "name": "stdout",
     "output_type": "stream",
     "text": [
      "Test set predictions: [0 0 0 ... 0 0 0]\n"
     ]
    }
   ],
   "source": [
    "print(\"Test set predictions: {}\".format(y_pred))"
   ]
  },
  {
   "cell_type": "code",
   "execution_count": 25,
   "id": "015fd940",
   "metadata": {},
   "outputs": [
    {
     "data": {
      "text/plain": [
       "0.832"
      ]
     },
     "execution_count": 25,
     "metadata": {},
     "output_type": "execute_result"
    }
   ],
   "source": [
    "knn.score(X_test, y_test)"
   ]
  },
  {
   "cell_type": "code",
   "execution_count": 26,
   "id": "606121dd",
   "metadata": {},
   "outputs": [
    {
     "name": "stdout",
     "output_type": "stream",
     "text": [
      "[[2496    0]\n",
      " [ 504    0]]\n",
      "              precision    recall  f1-score   support\n",
      "\n",
      "           0       0.83      1.00      0.91      2496\n",
      "           1       0.00      0.00      0.00       504\n",
      "\n",
      "    accuracy                           0.83      3000\n",
      "   macro avg       0.42      0.50      0.45      3000\n",
      "weighted avg       0.69      0.83      0.76      3000\n",
      "\n"
     ]
    },
    {
     "name": "stderr",
     "output_type": "stream",
     "text": [
      "/Users/jonathonfryman/opt/anaconda3/lib/python3.8/site-packages/sklearn/metrics/_classification.py:1318: UndefinedMetricWarning: Precision and F-score are ill-defined and being set to 0.0 in labels with no predicted samples. Use `zero_division` parameter to control this behavior.\n",
      "  _warn_prf(average, modifier, msg_start, len(result))\n",
      "/Users/jonathonfryman/opt/anaconda3/lib/python3.8/site-packages/sklearn/metrics/_classification.py:1318: UndefinedMetricWarning: Precision and F-score are ill-defined and being set to 0.0 in labels with no predicted samples. Use `zero_division` parameter to control this behavior.\n",
      "  _warn_prf(average, modifier, msg_start, len(result))\n",
      "/Users/jonathonfryman/opt/anaconda3/lib/python3.8/site-packages/sklearn/metrics/_classification.py:1318: UndefinedMetricWarning: Precision and F-score are ill-defined and being set to 0.0 in labels with no predicted samples. Use `zero_division` parameter to control this behavior.\n",
      "  _warn_prf(average, modifier, msg_start, len(result))\n"
     ]
    }
   ],
   "source": [
    "# Generate the confusion matrix and classification report\n",
    "print(confusion_matrix(y_test, y_pred))\n",
    "print(classification_report(y_test, y_pred))"
   ]
  },
  {
   "cell_type": "code",
   "execution_count": 27,
   "id": "9013c1e4",
   "metadata": {},
   "outputs": [
    {
     "ename": "NameError",
     "evalue": "name 'neighbors' is not defined",
     "output_type": "error",
     "traceback": [
      "\u001b[0;31m---------------------------------------------------------------------------\u001b[0m",
      "\u001b[0;31mNameError\u001b[0m                                 Traceback (most recent call last)",
      "\u001b[0;32m<ipython-input-27-8594fa1cbda7>\u001b[0m in \u001b[0;36m<module>\u001b[0;34m\u001b[0m\n\u001b[1;32m      1\u001b[0m \u001b[0;31m# Generate plot\u001b[0m\u001b[0;34m\u001b[0m\u001b[0;34m\u001b[0m\u001b[0;34m\u001b[0m\u001b[0m\n\u001b[1;32m      2\u001b[0m \u001b[0mplt\u001b[0m\u001b[0;34m.\u001b[0m\u001b[0mtitle\u001b[0m\u001b[0;34m(\u001b[0m\u001b[0;34m'k-NN: Varying Number of Neighbors'\u001b[0m\u001b[0;34m)\u001b[0m\u001b[0;34m\u001b[0m\u001b[0;34m\u001b[0m\u001b[0m\n\u001b[0;32m----> 3\u001b[0;31m \u001b[0mplt\u001b[0m\u001b[0;34m.\u001b[0m\u001b[0mplot\u001b[0m\u001b[0;34m(\u001b[0m\u001b[0mneighbors\u001b[0m\u001b[0;34m,\u001b[0m \u001b[0mtest_accuracy\u001b[0m\u001b[0;34m,\u001b[0m \u001b[0mlabel\u001b[0m \u001b[0;34m=\u001b[0m \u001b[0;34m'Testing Accuracy'\u001b[0m\u001b[0;34m)\u001b[0m\u001b[0;34m\u001b[0m\u001b[0;34m\u001b[0m\u001b[0m\n\u001b[0m\u001b[1;32m      4\u001b[0m \u001b[0mplt\u001b[0m\u001b[0;34m.\u001b[0m\u001b[0mplot\u001b[0m\u001b[0;34m(\u001b[0m\u001b[0mneighbors\u001b[0m\u001b[0;34m,\u001b[0m \u001b[0mtrain_accuracy\u001b[0m\u001b[0;34m,\u001b[0m \u001b[0mlabel\u001b[0m \u001b[0;34m=\u001b[0m \u001b[0;34m'Training Accuracy'\u001b[0m\u001b[0;34m)\u001b[0m\u001b[0;34m\u001b[0m\u001b[0;34m\u001b[0m\u001b[0m\n\u001b[1;32m      5\u001b[0m \u001b[0mplt\u001b[0m\u001b[0;34m.\u001b[0m\u001b[0mlegend\u001b[0m\u001b[0;34m(\u001b[0m\u001b[0;34m)\u001b[0m\u001b[0;34m\u001b[0m\u001b[0;34m\u001b[0m\u001b[0m\n",
      "\u001b[0;31mNameError\u001b[0m: name 'neighbors' is not defined"
     ]
    },
    {
     "data": {
      "image/png": "[encoded data removed]",
      "text/plain": [
       "<Figure size 432x288 with 1 Axes>"
      ]
     },
     "metadata": {
      "needs_background": "light"
     },
     "output_type": "display_data"
    }
   ],
   "source": [
    "# Generate plot\n",
    "plt.title('k-NN: Varying Number of Neighbors')\n",
    "plt.plot(neighbors, test_accuracy, label = 'Testing Accuracy')\n",
    "plt.plot(neighbors, train_accuracy, label = 'Training Accuracy')\n",
    "plt.legend()\n",
    "plt.xlabel('Number of Neighbors')\n",
    "plt.ylabel('Accuracy')\n",
    "plt.show()"
   ]
  },
  {
   "cell_type": "code",
   "execution_count": null,
   "id": "12e59403",
   "metadata": {},
   "outputs": [],
   "source": [
    "# evaluate test sets rmse \n",
    "rmse_test = MSE(y_test, y_pred)**(1/2)\n",
    "\n",
    "# print test set RMSE score\n",
    "print('Test set RMSE of rf: {:.2f}'.format(rmse_test))"
   ]
  },
  {
   "cell_type": "markdown",
   "id": "68651eb6",
   "metadata": {},
   "source": [
    "<h3>Part V: Data Summary and Implications</h3>"
   ]
  },
  {
   "cell_type": "markdown",
   "id": "e749e589",
   "metadata": {},
   "source": [
    "<h3>E.  Summarize your data analysis by doing the following:</h3>"
   ]
  },
  {
   "cell_type": "markdown",
   "id": "e17c5b71",
   "metadata": {},
   "source": [
    "<h3>E1. Explain the accuracy and the area under the curve (AUC) of your classification model.</h3>"
   ]
  },
  {
   "cell_type": "code",
   "execution_count": null,
   "id": "a00ff5ac",
   "metadata": {},
   "outputs": [],
   "source": [
    "# Setup arrays to store train and test accuracies\n",
    "neighbors = np.arange(1, 9)\n",
    "train_accuracy = np.empty(len(neighbors))\n",
    "test_accuracy = np.empty(len(neighbors))\n",
    "\n",
    "# Loop over different values of k\n",
    "for i, k in enumerate(neighbors):\n",
    "    # Setup a k-NN Classifier with k neighbors: knn\n",
    "    knn = KNN(n_neighbors=k)\n",
    "\n",
    "    # Fit the classifier to the training data\n",
    "    knn.fit(X_train,y_train)\n",
    "    \n",
    "    #Compute accuracy on the training set\n",
    "    train_accuracy[i] = knn.score(X_train, y_train)\n",
    "\n",
    "    #Compute accuracy on the testing set\n",
    "    test_accuracy[i] = knn.score(X_test,y_test)\n",
    "\n",
    "# Generate plot\n",
    "plt.title('k-NN: Varying Number of Neighbors')\n",
    "plt.plot(neighbors, test_accuracy, label = 'Testing Accuracy')\n",
    "plt.plot(neighbors, train_accuracy, label = 'Training Accuracy')\n",
    "plt.legend()\n",
    "plt.xlabel('Number of Neighbors')\n",
    "plt.ylabel('Accuracy')\n",
    "plt.show()\n"
   ]
  },
  {
   "cell_type": "code",
   "execution_count": null,
   "id": "2971fd4d",
   "metadata": {},
   "outputs": [],
   "source": [
    "# Calculating roc_auc_score for KNN model\n",
    "roc_auc_score(y_test, y_pred_prob)"
   ]
  },
  {
   "cell_type": "code",
   "execution_count": null,
   "id": "143b5886",
   "metadata": {},
   "outputs": [],
   "source": [
    "# Compute predicted probabilities: y_pred_prob\n",
    "y_pred_prob = knn.predict_proba(X_test)[:,1]\n",
    "\n",
    "print(\"AUC: {}\".format(roc_auc_score(y_test, y_pred_prob)))\n",
    "\n",
    "# Cross validation score for KNN model\n",
    "cv_scores = cross_val_score(knn, X, y, cv=5, scoring='roc_auc')\n",
    "\n",
    "print(\"AUC scores computed using 5-fold cross-validation: {}\".format(cv_scores))"
   ]
  },
  {
   "cell_type": "markdown",
   "id": "b3983946",
   "metadata": {},
   "source": [
    "<h3>E2.  Discuss the results and implications of your prediction analysis.</h3>"
   ]
  },
  {
   "cell_type": "markdown",
   "id": "ccd363d8",
   "metadata": {},
   "source": [
    "<h3>E3.  Discuss one limitation of your data analysis.</h3>\n",
    "\n",
    "The data does not include enough context to outline why the customer felt justified in identifying themselves as 'Techie'."
   ]
  },
  {
   "cell_type": "markdown",
   "id": "8fb229e2",
   "metadata": {},
   "source": [
    "<h3>E4.  Recommend a course of action for the real-world organizational situation from part A1 based on your results and implications discussed in part E2.</h3>"
   ]
  },
  {
   "cell_type": "markdown",
   "id": "ec83fd83",
   "metadata": {},
   "source": [
    "<h3>Part VI: Demonstration</h3>"
   ]
  },
  {
   "cell_type": "markdown",
   "id": "9ebb13cc",
   "metadata": {},
   "source": [
    "<h3>F: PANOPTO</h3>"
   ]
  },
  {
   "cell_type": "markdown",
   "id": "0b27cdd0",
   "metadata": {},
   "source": [
    "<h3>G: WEB SOURCES</h3>\n",
    "<ul>\n",
    "    <li></li>\n",
    "</ul>"
   ]
  },
  {
   "cell_type": "markdown",
   "id": "0217ab78",
   "metadata": {},
   "source": [
    "<h3>H: SOURCES</h3>\n",
    "<ul>\n",
    "    <li>Harrison, O. (2019, July 14). Machine learning basics with the K-nearest neighbors algorithm. Medium. Retrieved July 5, 2022, from https://towardsdatascience.com/machine-learning-basics-with-the-k-nearest-neighbors-algorithm-6a6e71d01761 </li>\n",
    "    <li>Sakshi Gupta. (2022, June 15). Knn Machine Learning Algorithm explained. Springboard Blog. Retrieved July 5, 2022, from https://www.springboard.com/blog/data-science/knn-algorithm/ </li>\n",
    "    <li></li>\n",
    "</ul>"
   ]
  },
  {
   "cell_type": "markdown",
   "id": "c7577f21",
   "metadata": {},
   "source": [
    "<h3></h3>"
   ]
  },
  {
   "cell_type": "markdown",
   "id": "da2a687f",
   "metadata": {},
   "source": [
    "<h3></h3>"
   ]
  },
  {
   "cell_type": "markdown",
   "id": "1e6be9e3",
   "metadata": {},
   "source": [
    "<h3></h3>"
   ]
  },
  {
   "cell_type": "markdown",
   "id": "9b9f52ed",
   "metadata": {},
   "source": [
    "<h3></h3>"
   ]
  },
  {
   "cell_type": "code",
   "execution_count": null,
   "id": "eba68c4d",
   "metadata": {},
   "outputs": [],
   "source": []
  }
 ],
 "metadata": {
  "kernelspec": {
   "display_name": "Python 3",
   "language": "python",
   "name": "python3"
  },
  "language_info": {
   "codemirror_mode": {
    "name": "ipython",
    "version": 3
   },
   "file_extension": ".py",
   "mimetype": "text/x-python",
   "name": "python",
   "nbconvert_exporter": "python",
   "pygments_lexer": "ipython3",
   "version": "3.8.8"
  }
 },
 "nbformat": 4,
 "nbformat_minor": 5
}
