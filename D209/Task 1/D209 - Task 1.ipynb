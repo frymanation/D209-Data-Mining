{
 "cells": [
  {
   "cell_type": "markdown",
   "id": "e2233ce9",
   "metadata": {},
   "source": [
    "<h2>D209 - Data Mining -  TASK 1: CLASSIFICATION ANALYSIS</h2>\n",
    "\n",
    "Jonathon \"Jon” Fryman<br>\n",
    "Data Analytics 01/01/2022<br>\n",
    "Student ID 000974544<br>\n",
    "Program Mentor: Lea Yoakem<br>\n",
    "C: 419-206-6989 (ET)<br>\n",
    "jfryma1@wgu.edu<br>"
   ]
  },
  {
   "cell_type": "markdown",
   "id": "6c41d5a0",
   "metadata": {},
   "source": [
    "<h3>Part I: Research Question</h3>"
   ]
  },
  {
   "cell_type": "markdown",
   "id": "8a5514a6",
   "metadata": {},
   "source": [
    "<h3>A.  Describe the purpose of this data mining report by doing the following:</h3>"
   ]
  },
  {
   "cell_type": "markdown",
   "id": "798b415e",
   "metadata": {},
   "source": [
    "<h3>A1.  Propose one question relevant to a real-world organizational situation that you will answer using one of the following classification methods:\n",
    "•  k-nearest neighbor (KNN)\n",
    "•  Naive Bayes"
   ]
  },
  {
   "cell_type": "markdown",
   "id": "112d3144",
   "metadata": {},
   "source": [
    "<h3>A2. Define one goal of the data analysis.</h3>\n",
    "Ensure that your goal is reasonable within the scope of the scenario and is represented in the available data.\n",
    " "
   ]
  },
  {
   "cell_type": "markdown",
   "id": "0849ed78",
   "metadata": {},
   "source": [
    "<h3>Part II: Method Justification</h3>"
   ]
  },
  {
   "cell_type": "markdown",
   "id": "febb12a6",
   "metadata": {},
   "source": [
    "<h3>B.  Explain the reasons for your chosen prediction method from part A1 by doing the following:</h3>"
   ]
  },
  {
   "cell_type": "markdown",
   "id": "7acc4d16",
   "metadata": {},
   "source": [
    "<h3>B1.  Explain how the prediction method you chose analyzes the selected data set. Include expected outcomes.</h3>"
   ]
  },
  {
   "cell_type": "markdown",
   "id": "1b24250a",
   "metadata": {},
   "source": [
    "<h3>B2.  Summarize one assumption of the chosen prediction method.</h3>"
   ]
  },
  {
   "cell_type": "markdown",
   "id": "87740c5c",
   "metadata": {},
   "source": [
    "<h3>B3.  List the packages or libraries you have chosen for Python or R, and justify how each item on the list supports the analysis.</h3>\n"
   ]
  },
  {
   "cell_type": "markdown",
   "id": "442e211c",
   "metadata": {},
   "source": [
    "<h3>Part III: Data Preparation</h3>"
   ]
  },
  {
   "cell_type": "markdown",
   "id": "c13a0357",
   "metadata": {},
   "source": [
    "<h3>C.  Perform data preparation for the chosen data set by doing the following:</h3>"
   ]
  },
  {
   "cell_type": "markdown",
   "id": "107e9f9a",
   "metadata": {},
   "source": [
    "<h3>C1.  Describe one data preprocessing goal relevant to the prediction method from part A1.</h3>"
   ]
  },
  {
   "cell_type": "markdown",
   "id": "189c73a2",
   "metadata": {},
   "source": [
    "<h3>C2.  Identify the initial data set variables that you will use to perform the analysis for the prediction question from part A1, and group each variable as continuous or categorical. </h3>"
   ]
  },
  {
   "cell_type": "markdown",
   "id": "826237bf",
   "metadata": {},
   "source": [
    "<h3>C3.  Explain the steps used to prepare the data for the analysis. Identify the code segment for each step.</h3>"
   ]
  },
  {
   "cell_type": "markdown",
   "id": "692f2175",
   "metadata": {},
   "source": [
    "<h3>C4.  Provide a copy of the cleaned data set.</h3>"
   ]
  },
  {
   "cell_type": "markdown",
   "id": "4f6cdc5d",
   "metadata": {},
   "source": [
    "<h3>Part IV.  Analysis</h3>"
   ]
  },
  {
   "cell_type": "markdown",
   "id": "fb3fd882",
   "metadata": {},
   "source": [
    "<h3>D.  Perform the data analysis and report on the results by doing the following:</h3>"
   ]
  },
  {
   "cell_type": "markdown",
   "id": "5865b619",
   "metadata": {},
   "source": [
    "<h3>D1.  Split the data into training and test data sets and provide the file(s).</h3>"
   ]
  },
  {
   "cell_type": "markdown",
   "id": "7324ecbe",
   "metadata": {},
   "source": [
    "<h3>D2.  Describe the analysis technique you used to appropriately analyze the data. Include screenshots of the intermediate calculations you performed..</h3>"
   ]
  },
  {
   "cell_type": "markdown",
   "id": "1e0eeba8",
   "metadata": {},
   "source": [
    "<h3>D3.  Provide the code used to perform the prediction analysis from part D2.</h3>"
   ]
  },
  {
   "cell_type": "markdown",
   "id": "68651eb6",
   "metadata": {},
   "source": [
    "<h3>Part V: Data Summary and Implications</h3>"
   ]
  },
  {
   "cell_type": "markdown",
   "id": "e749e589",
   "metadata": {},
   "source": [
    "<h3>E.  Summarize your data analysis by doing the following:</h3>"
   ]
  },
  {
   "cell_type": "markdown",
   "id": "e17c5b71",
   "metadata": {},
   "source": [
    "<h3>E1. Explain the accuracy and the area under the curve (AUC) of your classification model.</h3>"
   ]
  },
  {
   "cell_type": "markdown",
   "id": "b3983946",
   "metadata": {},
   "source": [
    "<h3>E2.  Discuss the results and implications of your prediction analysis.</h3>"
   ]
  },
  {
   "cell_type": "markdown",
   "id": "ccd363d8",
   "metadata": {},
   "source": [
    "<h3>E3.  Discuss one limitation of your data analysis.</h3>"
   ]
  },
  {
   "cell_type": "markdown",
   "id": "8fb229e2",
   "metadata": {},
   "source": [
    "<h3>E4.  Recommend a course of action for the real-world organizational situation from part A1 based on your results and implications discussed in part E2.</h3>"
   ]
  },
  {
   "cell_type": "markdown",
   "id": "ec83fd83",
   "metadata": {},
   "source": [
    "<h3>Part VI: Demonstration</h3>"
   ]
  },
  {
   "cell_type": "markdown",
   "id": "9ebb13cc",
   "metadata": {},
   "source": [
    "<h3>F: PANOPTO</h3>"
   ]
  },
  {
   "cell_type": "markdown",
   "id": "0b27cdd0",
   "metadata": {},
   "source": [
    "<h3>G: WEB SOURCES</h3>"
   ]
  },
  {
   "cell_type": "markdown",
   "id": "0217ab78",
   "metadata": {},
   "source": [
    "<h3>H: SOURCES</h3>"
   ]
  },
  {
   "cell_type": "markdown",
   "id": "c7577f21",
   "metadata": {},
   "source": [
    "<h3></h3>"
   ]
  },
  {
   "cell_type": "markdown",
   "id": "da2a687f",
   "metadata": {},
   "source": [
    "<h3></h3>"
   ]
  },
  {
   "cell_type": "markdown",
   "id": "1e6be9e3",
   "metadata": {},
   "source": [
    "<h3></h3>"
   ]
  },
  {
   "cell_type": "markdown",
   "id": "9b9f52ed",
   "metadata": {},
   "source": [
    "<h3></h3>"
   ]
  },
  {
   "cell_type": "code",
   "execution_count": null,
   "id": "eba68c4d",
   "metadata": {},
   "outputs": [],
   "source": []
  }
 ],
 "metadata": {
  "kernelspec": {
   "display_name": "Python 3 (ipykernel)",
   "language": "python",
   "name": "python3"
  },
  "language_info": {
   "codemirror_mode": {
    "name": "ipython",
    "version": 3
   },
   "file_extension": ".py",
   "mimetype": "text/x-python",
   "name": "python",
   "nbconvert_exporter": "python",
   "pygments_lexer": "ipython3",
   "version": "3.9.7"
  }
 },
 "nbformat": 4,
 "nbformat_minor": 5
}
