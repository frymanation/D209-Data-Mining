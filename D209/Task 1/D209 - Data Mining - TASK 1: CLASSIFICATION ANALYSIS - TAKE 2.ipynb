{
 "cells": [
  {
   "cell_type": "markdown",
   "id": "e2233ce9",
   "metadata": {},
   "source": [
    "<h2>D209 - Data Mining -  TASK 1: CLASSIFICATION ANALYSIS</h2>\n",
    "\n",
    "Jonathon \"Jon” Fryman<br>\n",
    "Data Analytics 01/01/2022<br>\n",
    "Student ID 000974544<br>\n",
    "Program Mentor: Lea Yoakem<br>\n",
    "C: 419-206-6989 (ET)<br>\n",
    "jfryma1@wgu.edu<br>"
   ]
  },
  {
   "cell_type": "markdown",
   "id": "6c41d5a0",
   "metadata": {},
   "source": [
    "<h3>Part I: Research Question</h3>"
   ]
  },
  {
   "cell_type": "markdown",
   "id": "8a5514a6",
   "metadata": {},
   "source": [
    "<h3>A.  Describe the purpose of this data mining report by doing the following:</h3>"
   ]
  },
  {
   "cell_type": "markdown",
   "id": "798b415e",
   "metadata": {},
   "source": [
    "<h3>A1.  Propose one question relevant to a real-world organizational situation that you will answer using one of the following classification methods:</h3>\n",
    "\n",
    "\n",
    "Can the segment of the customer base most likely to enroll in the StreamingMovies service offering be ascertained from the currently available data?"
   ]
  },
  {
   "cell_type": "markdown",
   "id": "112d3144",
   "metadata": {},
   "source": [
    "<h3>A2. Define one goal of the data analysis.</h3>\n",
    "\n",
    "The goal of the stated research question is to locate patterns within the dataset  in relation to a customers StreamingMovies status in correlation to the customers MonthlyCharge', 'Bandwidth_GB_Year', 'Age', and Streaming_TV classification status. This will allow us to better understand trends on the customer base for this specifically segmented product offering. "
   ]
  },
  {
   "cell_type": "markdown",
   "id": "0849ed78",
   "metadata": {},
   "source": [
    "<h3>Part II: Method Justification</h3>"
   ]
  },
  {
   "cell_type": "markdown",
   "id": "febb12a6",
   "metadata": {},
   "source": [
    "<h3>B.  Explain the reasons for your chosen prediction method from part A1 by doing the following:</h3>"
   ]
  },
  {
   "cell_type": "markdown",
   "id": "7acc4d16",
   "metadata": {},
   "source": [
    "<h3>B1.  Explain how the prediction method you chose analyzes the selected data set. Include expected outcomes.</h3>\n",
    "\n",
    "The classsification method used, k-Nearest Neighbors, creates bounderies to classify the data. When the model receives a new data point, the algorithm attempts to predict the most appropriate classification of the dependent variable based on the nearest boundary line."
   ]
  },
  {
   "cell_type": "markdown",
   "id": "1b24250a",
   "metadata": {},
   "source": [
    "<h3>B2.  Summarize one assumption of the chosen prediction method.</h3>\n",
    "\n",
    "K Nearest Neighbors is known as a non-parametric lazy learning algorithm. When referring to a non-parametric technique, it is implied that there are no pre-existing assumptions made regarding the underlying data and hows it's distributed."
   ]
  },
  {
   "cell_type": "markdown",
   "id": "87740c5c",
   "metadata": {},
   "source": [
    "<h3>B3.  List the packages or libraries you have chosen for Python or R, and justify how each item on the list supports the analysis.</h3>\n",
    "\n",
    "The following Python libraries and packages will be utilized throughout the included analysis:\n",
    "\n",
    "<ul>\n",
    "    <li><strong>Pandas</strong> - A fast, powerful, flexible and easy to use open source data analysis and manipulation tool, built on top of the Python programming language</li>\n",
    "    <li><strong>Numpy</strong> - Offers comprehensive mathematical functions, random number generators, linear algebra routines</li> \n",
    "    <li><strong>Matplotlib</strong> - A comprehensive library for creating static, animated, and interactive visualizations</li>\n",
    "    <li><strong>scikit-learn</strong> - Simple and efficient tools for predictive data analysis</li>\n",
    "        <ul>\n",
    "            <li><strong>Neighbors</strong> - implements the k-nearest neighbors algorithm.</li>\n",
    "                <ul>\n",
    "                    <li><strong>KNeighborsClassifier</strong> - Classifier implementing the k-nearest neighbors vote</li>\n",
    "            </ul>\n",
    "            <li><strong>Metrics</strong> - Implements several loss, score, and utility functions to measure classification performance</li>\n",
    "                <ul>\n",
    "                    <li><strong>mean_squared_error</strong> - Calculates mean squared error regression loss</li>\n",
    "                    <li><strong>accuracy_score</strong> - In multilabel classification, this function computes subset accuracy: the set of labels predicted for a sample must exactly match the corresponding set of labels in y_true.\n",
    "</li>\n",
    "                    <li><strong>roc_auc_score</strong> - Computes area under the receiver operating characteristic curve (ROC AUC) from prediction scores</li>\n",
    "                    <li><strong>classification_report</strong> - Builds a text report showing the main classification metrics.</li>\n",
    "                    <li><strong>confustion_matrix</strong> - Compute confusion matrix to evaluate the accuracy of a classification.</li>\n",
    "                </ul>\n",
    "            <li><strong>Model_selection</strong></li>\n",
    "                <ul>\n",
    "                    <li><strong>train_test_split</strong> - Split arrays or matrices into random train and test subsets.</li>\n",
    "                    <li><strong>GridSearchCV</strong> - Exhaustive search over specified parameter values for an estimator.</li>\n",
    "                    <li><strong>cross_val_score</strong> - Used to evaluate a score by cross-validation.\n",
    "                </ul>\n",
    "            <li><strong>Preprocessing</strong> - Provides several common utility functions and transformer classes to change raw feature vectors into a representation that is more suitable for the downstream estimators.\n",
    "</li>\n",
    "                <ul>\n",
    "                    <li><strong>MinMaxScaler</strong> - Transform features by scaling each feature to a given range. This estimator scales and translates each feature individually such that it is in the given range on the training set, e.g. between zero and one.</li>\n",
    "                    <li><strong>StandardScaler</strong> - Standardizes features by removing the mean and scaling to unit variance.</li>\n",
    "                </ul>\n",
    "        </ul>\n",
    "    \n",
    "</ul>"
   ]
  },
  {
   "cell_type": "code",
   "execution_count": 1,
   "id": "1af0ee01",
   "metadata": {},
   "outputs": [],
   "source": [
    "# importing required libraries and packages\n",
    "import pandas as pd\n",
    "import numpy as np\n",
    "import matplotlib.pyplot as plt\n",
    "from sklearn.model_selection import train_test_split, cross_val_score, GridSearchCV\n",
    "from sklearn.metrics import mean_squared_error as MSE, confusion_matrix, classification_report, roc_auc_score, accuracy_score\n",
    "from sklearn.neighbors import KNeighborsClassifier as KNN\n",
    "from sklearn.preprocessing import MinMaxScaler, StandardScaler"
   ]
  },
  {
   "cell_type": "markdown",
   "id": "442e211c",
   "metadata": {},
   "source": [
    "<h3>Part III: Data Preparation</h3>"
   ]
  },
  {
   "cell_type": "markdown",
   "id": "c13a0357",
   "metadata": {},
   "source": [
    "<h3>C.  Perform data preparation for the chosen data set by doing the following:</h3>"
   ]
  },
  {
   "cell_type": "markdown",
   "id": "107e9f9a",
   "metadata": {},
   "source": [
    "<h3>C1.  Describe one data preprocessing goal relevant to the prediction method from part A1.</h3>\n",
    "\n",
    "Data preprocessing for K Nearest Neighbors necessitates removing outlier values for the independent variables selected for inclusion in the prediction model. After reviewing the data, there were no identified outliers within the selected variables that were egregiously off scale from the remainder of the records. \n",
    "\n",
    "As previously stated, this was the case for the Population attribute and corrected within this Jupyter notebook. However, Population was not selected for inclusion within our prediction model."
   ]
  },
  {
   "cell_type": "markdown",
   "id": "189c73a2",
   "metadata": {},
   "source": [
    "<h3>C2.  Identify the initial data set variables that you will use to perform the analysis for the prediction question from part A1, and group each variable as continuous or categorical. </h3>\n",
    "<h4>All Variables</h4>\n",
    "<ul>\n",
    "    <li>StreamingTV</li>\n",
    "    <li>MonthlyCharge</li>\n",
    "    <li>Age</li>\n",
    "    <li>Bandwidth_GB_Year</li>\n",
    "    <li>StreamingMovies</li>\n",
    "</ul>\n",
    "<h4>Numeric</h4>\n",
    "<ul>\n",
    "    <li>MonthlyCharge</li>\n",
    "    <li>Bandwidth_GB_Year</li>\n",
    "    <li>Age</li>\n",
    "</ul>\n",
    "\n",
    "<h4>Categorical</h4>\n",
    "<ul>\n",
    "   <li>StreamingTV</li>\n",
    "   <li>StreamingMovies</li>\n",
    "</ul>"
   ]
  },
  {
   "cell_type": "markdown",
   "id": "826237bf",
   "metadata": {},
   "source": [
    "<h3>C3.  Explain the steps used to prepare the data for the analysis. Identify the code segment for each step.</h3>\n",
    "\n",
    "The primary steps performed prior to analysis consisted of the following items:\n",
    "\n",
    "<ul>\n",
    "    <li>Reading in the csv file using Pandas</li>\n",
    "    <li>The columns named Item1-Item8 were renamed to better align with the variable's description</li>\n",
    "    <li>Confirmed the dataset did not contain any null or missing values</li>\n",
    "    <li>Corrected population values for records representing a 0 population value</li>\n",
    "    <li>Created a list containing the variables to be included for analysis with the model</li>\n",
    "    <li>Created dummy variables to convert categorical variables to numeric </li>\n",
    "    <li>Renamed dummy variables back to original variable name in numeric form</li>\n",
    "</ul>\n",
    "\n",
    "This steps can be seen in the cells below with annotation identifying with cell performs which step included in the list above."
   ]
  },
  {
   "cell_type": "code",
   "execution_count": 2,
   "id": "5b131715",
   "metadata": {},
   "outputs": [],
   "source": [
    "# importing churn csv as pandas dataframe\n",
    "churn_df = pd.read_csv('churn_clean.csv')\n",
    "\n",
    "# Updating column names to reflect title\n",
    "churn_df.rename(columns = {'Item1':'TimelyResponse',\n",
    "                    'Item2':'TimelyFixes',\n",
    "                    'Item3':'TimelyReplacements',\n",
    "                    'Item4':'Reliability',\n",
    "                    'Item5':'Options',\n",
    "                    'Item6':'RespectfulResponse',\n",
    "                    'Item7':'CourteousExchange',\n",
    "                    'Item8':'EvidenceActiveListening'}, inplace=True)"
   ]
  },
  {
   "cell_type": "code",
   "execution_count": 3,
   "id": "946a6839",
   "metadata": {},
   "outputs": [
    {
     "name": "stdout",
     "output_type": "stream",
     "text": [
      "CaseOrder                  0\n",
      "Customer_id                0\n",
      "Interaction                0\n",
      "UID                        0\n",
      "City                       0\n",
      "State                      0\n",
      "County                     0\n",
      "Zip                        0\n",
      "Lat                        0\n",
      "Lng                        0\n",
      "Population                 0\n",
      "Area                       0\n",
      "TimeZone                   0\n",
      "Job                        0\n",
      "Children                   0\n",
      "Age                        0\n",
      "Income                     0\n",
      "Marital                    0\n",
      "Gender                     0\n",
      "Churn                      0\n",
      "Outage_sec_perweek         0\n",
      "Email                      0\n",
      "Contacts                   0\n",
      "Yearly_equip_failure       0\n",
      "Techie                     0\n",
      "Contract                   0\n",
      "Port_modem                 0\n",
      "Tablet                     0\n",
      "InternetService            0\n",
      "Phone                      0\n",
      "Multiple                   0\n",
      "OnlineSecurity             0\n",
      "OnlineBackup               0\n",
      "DeviceProtection           0\n",
      "TechSupport                0\n",
      "StreamingTV                0\n",
      "StreamingMovies            0\n",
      "PaperlessBilling           0\n",
      "PaymentMethod              0\n",
      "Tenure                     0\n",
      "MonthlyCharge              0\n",
      "Bandwidth_GB_Year          0\n",
      "TimelyResponse             0\n",
      "TimelyFixes                0\n",
      "TimelyReplacements         0\n",
      "Reliability                0\n",
      "Options                    0\n",
      "RespectfulResponse         0\n",
      "CourteousExchange          0\n",
      "EvidenceActiveListening    0\n",
      "dtype: int64\n"
     ]
    }
   ],
   "source": [
    "# Counting null values for all columns\n",
    "count_nan = churn_df.isnull().sum()\n",
    "print(count_nan)"
   ]
  },
  {
   "cell_type": "code",
   "execution_count": 4,
   "id": "0dbf424e",
   "metadata": {},
   "outputs": [
    {
     "data": {
      "text/plain": [
       "CaseOrder                  False\n",
       "Customer_id                False\n",
       "Interaction                False\n",
       "UID                        False\n",
       "City                       False\n",
       "State                      False\n",
       "County                     False\n",
       "Zip                        False\n",
       "Lat                        False\n",
       "Lng                        False\n",
       "Population                 False\n",
       "Area                       False\n",
       "TimeZone                   False\n",
       "Job                        False\n",
       "Children                   False\n",
       "Age                        False\n",
       "Income                     False\n",
       "Marital                    False\n",
       "Gender                     False\n",
       "Churn                      False\n",
       "Outage_sec_perweek         False\n",
       "Email                      False\n",
       "Contacts                   False\n",
       "Yearly_equip_failure       False\n",
       "Techie                     False\n",
       "Contract                   False\n",
       "Port_modem                 False\n",
       "Tablet                     False\n",
       "InternetService            False\n",
       "Phone                      False\n",
       "Multiple                   False\n",
       "OnlineSecurity             False\n",
       "OnlineBackup               False\n",
       "DeviceProtection           False\n",
       "TechSupport                False\n",
       "StreamingTV                False\n",
       "StreamingMovies            False\n",
       "PaperlessBilling           False\n",
       "PaymentMethod              False\n",
       "Tenure                     False\n",
       "MonthlyCharge              False\n",
       "Bandwidth_GB_Year          False\n",
       "TimelyResponse             False\n",
       "TimelyFixes                False\n",
       "TimelyReplacements         False\n",
       "Reliability                False\n",
       "Options                    False\n",
       "RespectfulResponse         False\n",
       "CourteousExchange          False\n",
       "EvidenceActiveListening    False\n",
       "dtype: bool"
      ]
     },
     "execution_count": 4,
     "metadata": {},
     "output_type": "execute_result"
    }
   ],
   "source": [
    "# confirming if any values are missing or null\n",
    "churn_df.isna().any()"
   ]
  },
  {
   "cell_type": "code",
   "execution_count": 5,
   "id": "eeb0ff6b",
   "metadata": {},
   "outputs": [
    {
     "data": {
      "text/html": [
       "<div>\n",
       "<style scoped>\n",
       "    .dataframe tbody tr th:only-of-type {\n",
       "        vertical-align: middle;\n",
       "    }\n",
       "\n",
       "    .dataframe tbody tr th {\n",
       "        vertical-align: top;\n",
       "    }\n",
       "\n",
       "    .dataframe thead th {\n",
       "        text-align: right;\n",
       "    }\n",
       "</style>\n",
       "<table border=\"1\" class=\"dataframe\">\n",
       "  <thead>\n",
       "    <tr style=\"text-align: right;\">\n",
       "      <th></th>\n",
       "      <th>CaseOrder</th>\n",
       "      <th>Zip</th>\n",
       "      <th>Lat</th>\n",
       "      <th>Lng</th>\n",
       "      <th>Population</th>\n",
       "      <th>Children</th>\n",
       "      <th>Age</th>\n",
       "      <th>Income</th>\n",
       "      <th>Outage_sec_perweek</th>\n",
       "      <th>Email</th>\n",
       "      <th>...</th>\n",
       "      <th>MonthlyCharge</th>\n",
       "      <th>Bandwidth_GB_Year</th>\n",
       "      <th>TimelyResponse</th>\n",
       "      <th>TimelyFixes</th>\n",
       "      <th>TimelyReplacements</th>\n",
       "      <th>Reliability</th>\n",
       "      <th>Options</th>\n",
       "      <th>RespectfulResponse</th>\n",
       "      <th>CourteousExchange</th>\n",
       "      <th>EvidenceActiveListening</th>\n",
       "    </tr>\n",
       "  </thead>\n",
       "  <tbody>\n",
       "    <tr>\n",
       "      <th>count</th>\n",
       "      <td>10000.00000</td>\n",
       "      <td>10000.000000</td>\n",
       "      <td>10000.000000</td>\n",
       "      <td>10000.000000</td>\n",
       "      <td>10000.000000</td>\n",
       "      <td>10000.0000</td>\n",
       "      <td>10000.000000</td>\n",
       "      <td>10000.000000</td>\n",
       "      <td>10000.000000</td>\n",
       "      <td>10000.000000</td>\n",
       "      <td>...</td>\n",
       "      <td>10000.000000</td>\n",
       "      <td>10000.000000</td>\n",
       "      <td>10000.000000</td>\n",
       "      <td>10000.000000</td>\n",
       "      <td>10000.000000</td>\n",
       "      <td>10000.000000</td>\n",
       "      <td>10000.000000</td>\n",
       "      <td>10000.000000</td>\n",
       "      <td>10000.000000</td>\n",
       "      <td>10000.000000</td>\n",
       "    </tr>\n",
       "    <tr>\n",
       "      <th>mean</th>\n",
       "      <td>5000.50000</td>\n",
       "      <td>49153.319600</td>\n",
       "      <td>38.757567</td>\n",
       "      <td>-90.782536</td>\n",
       "      <td>9756.562400</td>\n",
       "      <td>2.0877</td>\n",
       "      <td>53.078400</td>\n",
       "      <td>39806.926771</td>\n",
       "      <td>10.001848</td>\n",
       "      <td>12.016000</td>\n",
       "      <td>...</td>\n",
       "      <td>172.624816</td>\n",
       "      <td>3392.341550</td>\n",
       "      <td>3.490800</td>\n",
       "      <td>3.505100</td>\n",
       "      <td>3.487000</td>\n",
       "      <td>3.497500</td>\n",
       "      <td>3.492900</td>\n",
       "      <td>3.497300</td>\n",
       "      <td>3.509500</td>\n",
       "      <td>3.495600</td>\n",
       "    </tr>\n",
       "    <tr>\n",
       "      <th>std</th>\n",
       "      <td>2886.89568</td>\n",
       "      <td>27532.196108</td>\n",
       "      <td>5.437389</td>\n",
       "      <td>15.156142</td>\n",
       "      <td>14432.698671</td>\n",
       "      <td>2.1472</td>\n",
       "      <td>20.698882</td>\n",
       "      <td>28199.916702</td>\n",
       "      <td>2.976019</td>\n",
       "      <td>3.025898</td>\n",
       "      <td>...</td>\n",
       "      <td>42.943094</td>\n",
       "      <td>2185.294852</td>\n",
       "      <td>1.037797</td>\n",
       "      <td>1.034641</td>\n",
       "      <td>1.027977</td>\n",
       "      <td>1.025816</td>\n",
       "      <td>1.024819</td>\n",
       "      <td>1.033586</td>\n",
       "      <td>1.028502</td>\n",
       "      <td>1.028633</td>\n",
       "    </tr>\n",
       "    <tr>\n",
       "      <th>min</th>\n",
       "      <td>1.00000</td>\n",
       "      <td>601.000000</td>\n",
       "      <td>17.966120</td>\n",
       "      <td>-171.688150</td>\n",
       "      <td>0.000000</td>\n",
       "      <td>0.0000</td>\n",
       "      <td>18.000000</td>\n",
       "      <td>348.670000</td>\n",
       "      <td>0.099747</td>\n",
       "      <td>1.000000</td>\n",
       "      <td>...</td>\n",
       "      <td>79.978860</td>\n",
       "      <td>155.506715</td>\n",
       "      <td>1.000000</td>\n",
       "      <td>1.000000</td>\n",
       "      <td>1.000000</td>\n",
       "      <td>1.000000</td>\n",
       "      <td>1.000000</td>\n",
       "      <td>1.000000</td>\n",
       "      <td>1.000000</td>\n",
       "      <td>1.000000</td>\n",
       "    </tr>\n",
       "    <tr>\n",
       "      <th>25%</th>\n",
       "      <td>2500.75000</td>\n",
       "      <td>26292.500000</td>\n",
       "      <td>35.341828</td>\n",
       "      <td>-97.082812</td>\n",
       "      <td>738.000000</td>\n",
       "      <td>0.0000</td>\n",
       "      <td>35.000000</td>\n",
       "      <td>19224.717500</td>\n",
       "      <td>8.018214</td>\n",
       "      <td>10.000000</td>\n",
       "      <td>...</td>\n",
       "      <td>139.979239</td>\n",
       "      <td>1236.470827</td>\n",
       "      <td>3.000000</td>\n",
       "      <td>3.000000</td>\n",
       "      <td>3.000000</td>\n",
       "      <td>3.000000</td>\n",
       "      <td>3.000000</td>\n",
       "      <td>3.000000</td>\n",
       "      <td>3.000000</td>\n",
       "      <td>3.000000</td>\n",
       "    </tr>\n",
       "    <tr>\n",
       "      <th>50%</th>\n",
       "      <td>5000.50000</td>\n",
       "      <td>48869.500000</td>\n",
       "      <td>39.395800</td>\n",
       "      <td>-87.918800</td>\n",
       "      <td>2910.500000</td>\n",
       "      <td>1.0000</td>\n",
       "      <td>53.000000</td>\n",
       "      <td>33170.605000</td>\n",
       "      <td>10.018560</td>\n",
       "      <td>12.000000</td>\n",
       "      <td>...</td>\n",
       "      <td>167.484700</td>\n",
       "      <td>3279.536903</td>\n",
       "      <td>3.000000</td>\n",
       "      <td>4.000000</td>\n",
       "      <td>3.000000</td>\n",
       "      <td>3.000000</td>\n",
       "      <td>3.000000</td>\n",
       "      <td>3.000000</td>\n",
       "      <td>4.000000</td>\n",
       "      <td>3.000000</td>\n",
       "    </tr>\n",
       "    <tr>\n",
       "      <th>75%</th>\n",
       "      <td>7500.25000</td>\n",
       "      <td>71866.500000</td>\n",
       "      <td>42.106908</td>\n",
       "      <td>-80.088745</td>\n",
       "      <td>13168.000000</td>\n",
       "      <td>3.0000</td>\n",
       "      <td>71.000000</td>\n",
       "      <td>53246.170000</td>\n",
       "      <td>11.969485</td>\n",
       "      <td>14.000000</td>\n",
       "      <td>...</td>\n",
       "      <td>200.734725</td>\n",
       "      <td>5586.141370</td>\n",
       "      <td>4.000000</td>\n",
       "      <td>4.000000</td>\n",
       "      <td>4.000000</td>\n",
       "      <td>4.000000</td>\n",
       "      <td>4.000000</td>\n",
       "      <td>4.000000</td>\n",
       "      <td>4.000000</td>\n",
       "      <td>4.000000</td>\n",
       "    </tr>\n",
       "    <tr>\n",
       "      <th>max</th>\n",
       "      <td>10000.00000</td>\n",
       "      <td>99929.000000</td>\n",
       "      <td>70.640660</td>\n",
       "      <td>-65.667850</td>\n",
       "      <td>111850.000000</td>\n",
       "      <td>10.0000</td>\n",
       "      <td>89.000000</td>\n",
       "      <td>258900.700000</td>\n",
       "      <td>21.207230</td>\n",
       "      <td>23.000000</td>\n",
       "      <td>...</td>\n",
       "      <td>290.160419</td>\n",
       "      <td>7158.981530</td>\n",
       "      <td>7.000000</td>\n",
       "      <td>7.000000</td>\n",
       "      <td>8.000000</td>\n",
       "      <td>7.000000</td>\n",
       "      <td>7.000000</td>\n",
       "      <td>8.000000</td>\n",
       "      <td>7.000000</td>\n",
       "      <td>8.000000</td>\n",
       "    </tr>\n",
       "  </tbody>\n",
       "</table>\n",
       "<p>8 rows × 23 columns</p>\n",
       "</div>"
      ],
      "text/plain": [
       "         CaseOrder           Zip           Lat           Lng     Population  \\\n",
       "count  10000.00000  10000.000000  10000.000000  10000.000000   10000.000000   \n",
       "mean    5000.50000  49153.319600     38.757567    -90.782536    9756.562400   \n",
       "std     2886.89568  27532.196108      5.437389     15.156142   14432.698671   \n",
       "min        1.00000    601.000000     17.966120   -171.688150       0.000000   \n",
       "25%     2500.75000  26292.500000     35.341828    -97.082812     738.000000   \n",
       "50%     5000.50000  48869.500000     39.395800    -87.918800    2910.500000   \n",
       "75%     7500.25000  71866.500000     42.106908    -80.088745   13168.000000   \n",
       "max    10000.00000  99929.000000     70.640660    -65.667850  111850.000000   \n",
       "\n",
       "         Children           Age         Income  Outage_sec_perweek  \\\n",
       "count  10000.0000  10000.000000   10000.000000        10000.000000   \n",
       "mean       2.0877     53.078400   39806.926771           10.001848   \n",
       "std        2.1472     20.698882   28199.916702            2.976019   \n",
       "min        0.0000     18.000000     348.670000            0.099747   \n",
       "25%        0.0000     35.000000   19224.717500            8.018214   \n",
       "50%        1.0000     53.000000   33170.605000           10.018560   \n",
       "75%        3.0000     71.000000   53246.170000           11.969485   \n",
       "max       10.0000     89.000000  258900.700000           21.207230   \n",
       "\n",
       "              Email  ...  MonthlyCharge  Bandwidth_GB_Year  TimelyResponse  \\\n",
       "count  10000.000000  ...   10000.000000       10000.000000    10000.000000   \n",
       "mean      12.016000  ...     172.624816        3392.341550        3.490800   \n",
       "std        3.025898  ...      42.943094        2185.294852        1.037797   \n",
       "min        1.000000  ...      79.978860         155.506715        1.000000   \n",
       "25%       10.000000  ...     139.979239        1236.470827        3.000000   \n",
       "50%       12.000000  ...     167.484700        3279.536903        3.000000   \n",
       "75%       14.000000  ...     200.734725        5586.141370        4.000000   \n",
       "max       23.000000  ...     290.160419        7158.981530        7.000000   \n",
       "\n",
       "        TimelyFixes  TimelyReplacements   Reliability       Options  \\\n",
       "count  10000.000000        10000.000000  10000.000000  10000.000000   \n",
       "mean       3.505100            3.487000      3.497500      3.492900   \n",
       "std        1.034641            1.027977      1.025816      1.024819   \n",
       "min        1.000000            1.000000      1.000000      1.000000   \n",
       "25%        3.000000            3.000000      3.000000      3.000000   \n",
       "50%        4.000000            3.000000      3.000000      3.000000   \n",
       "75%        4.000000            4.000000      4.000000      4.000000   \n",
       "max        7.000000            8.000000      7.000000      7.000000   \n",
       "\n",
       "       RespectfulResponse  CourteousExchange  EvidenceActiveListening  \n",
       "count        10000.000000       10000.000000             10000.000000  \n",
       "mean             3.497300           3.509500                 3.495600  \n",
       "std              1.033586           1.028502                 1.028633  \n",
       "min              1.000000           1.000000                 1.000000  \n",
       "25%              3.000000           3.000000                 3.000000  \n",
       "50%              3.000000           4.000000                 3.000000  \n",
       "75%              4.000000           4.000000                 4.000000  \n",
       "max              8.000000           7.000000                 8.000000  \n",
       "\n",
       "[8 rows x 23 columns]"
      ]
     },
     "execution_count": 5,
     "metadata": {},
     "output_type": "execute_result"
    }
   ],
   "source": [
    "# Summary Statistics for all numerical variables contained in initial DataSet\n",
    "churn_df.describe()"
   ]
  },
  {
   "cell_type": "code",
   "execution_count": 6,
   "id": "03a71805",
   "metadata": {
    "scrolled": true
   },
   "outputs": [
    {
     "data": {
      "text/plain": [
       "['CaseOrder',\n",
       " 'Customer_id',\n",
       " 'Interaction',\n",
       " 'UID',\n",
       " 'City',\n",
       " 'State',\n",
       " 'County',\n",
       " 'Zip',\n",
       " 'Lat',\n",
       " 'Lng',\n",
       " 'Population',\n",
       " 'Area',\n",
       " 'TimeZone',\n",
       " 'Job',\n",
       " 'Children',\n",
       " 'Age',\n",
       " 'Income',\n",
       " 'Marital',\n",
       " 'Gender',\n",
       " 'Churn',\n",
       " 'Outage_sec_perweek',\n",
       " 'Email',\n",
       " 'Contacts',\n",
       " 'Yearly_equip_failure',\n",
       " 'Techie',\n",
       " 'Contract',\n",
       " 'Port_modem',\n",
       " 'Tablet',\n",
       " 'InternetService',\n",
       " 'Phone',\n",
       " 'Multiple',\n",
       " 'OnlineSecurity',\n",
       " 'OnlineBackup',\n",
       " 'DeviceProtection',\n",
       " 'TechSupport',\n",
       " 'StreamingTV',\n",
       " 'StreamingMovies',\n",
       " 'PaperlessBilling',\n",
       " 'PaymentMethod',\n",
       " 'Tenure',\n",
       " 'MonthlyCharge',\n",
       " 'Bandwidth_GB_Year',\n",
       " 'TimelyResponse',\n",
       " 'TimelyFixes',\n",
       " 'TimelyReplacements',\n",
       " 'Reliability',\n",
       " 'Options',\n",
       " 'RespectfulResponse',\n",
       " 'CourteousExchange',\n",
       " 'EvidenceActiveListening']"
      ]
     },
     "execution_count": 6,
     "metadata": {},
     "output_type": "execute_result"
    }
   ],
   "source": [
    "# generating list of all original columns in dataframe\n",
    "list(churn_df.columns)"
   ]
  },
  {
   "cell_type": "code",
   "execution_count": 7,
   "id": "70267e42",
   "metadata": {},
   "outputs": [],
   "source": [
    "# creating list of unique areas\n",
    "a = churn_df['Area'].unique()\n",
    "\n",
    "# creating empty area dictionary\n",
    "ad = {}\n",
    "\n",
    "# Creating dictionary associating area with median population\n",
    "for i in a:\n",
    "    ad[i] = churn_df.loc[churn_df['Area'] == i]['Population'].mean()\n",
    "    \n",
    "# assign mean population for area to records with 0 for population value\n",
    "for key, value in ad.items():\n",
    "    churn_df.loc[(churn_df['Population'] == 0) & (churn_df['Area'] == key), 'Population'] = value    "
   ]
  },
  {
   "cell_type": "code",
   "execution_count": 8,
   "id": "e19847a5",
   "metadata": {},
   "outputs": [
    {
     "data": {
      "text/html": [
       "<div>\n",
       "<style scoped>\n",
       "    .dataframe tbody tr th:only-of-type {\n",
       "        vertical-align: middle;\n",
       "    }\n",
       "\n",
       "    .dataframe tbody tr th {\n",
       "        vertical-align: top;\n",
       "    }\n",
       "\n",
       "    .dataframe thead th {\n",
       "        text-align: right;\n",
       "    }\n",
       "</style>\n",
       "<table border=\"1\" class=\"dataframe\">\n",
       "  <thead>\n",
       "    <tr style=\"text-align: right;\">\n",
       "      <th></th>\n",
       "      <th>CaseOrder</th>\n",
       "      <th>Zip</th>\n",
       "      <th>Lat</th>\n",
       "      <th>Lng</th>\n",
       "      <th>Population</th>\n",
       "      <th>Children</th>\n",
       "      <th>Age</th>\n",
       "      <th>Income</th>\n",
       "      <th>Outage_sec_perweek</th>\n",
       "      <th>Email</th>\n",
       "      <th>...</th>\n",
       "      <th>MonthlyCharge</th>\n",
       "      <th>Bandwidth_GB_Year</th>\n",
       "      <th>TimelyResponse</th>\n",
       "      <th>TimelyFixes</th>\n",
       "      <th>TimelyReplacements</th>\n",
       "      <th>Reliability</th>\n",
       "      <th>Options</th>\n",
       "      <th>RespectfulResponse</th>\n",
       "      <th>CourteousExchange</th>\n",
       "      <th>EvidenceActiveListening</th>\n",
       "    </tr>\n",
       "  </thead>\n",
       "  <tbody>\n",
       "    <tr>\n",
       "      <th>count</th>\n",
       "      <td>10000.00000</td>\n",
       "      <td>10000.000000</td>\n",
       "      <td>10000.000000</td>\n",
       "      <td>10000.000000</td>\n",
       "      <td>10000.000000</td>\n",
       "      <td>10000.0000</td>\n",
       "      <td>10000.000000</td>\n",
       "      <td>10000.000000</td>\n",
       "      <td>10000.000000</td>\n",
       "      <td>10000.000000</td>\n",
       "      <td>...</td>\n",
       "      <td>10000.000000</td>\n",
       "      <td>10000.000000</td>\n",
       "      <td>10000.000000</td>\n",
       "      <td>10000.000000</td>\n",
       "      <td>10000.000000</td>\n",
       "      <td>10000.000000</td>\n",
       "      <td>10000.000000</td>\n",
       "      <td>10000.000000</td>\n",
       "      <td>10000.000000</td>\n",
       "      <td>10000.000000</td>\n",
       "    </tr>\n",
       "    <tr>\n",
       "      <th>mean</th>\n",
       "      <td>5000.50000</td>\n",
       "      <td>49153.319600</td>\n",
       "      <td>38.757567</td>\n",
       "      <td>-90.782536</td>\n",
       "      <td>9851.073089</td>\n",
       "      <td>2.0877</td>\n",
       "      <td>53.078400</td>\n",
       "      <td>39806.926771</td>\n",
       "      <td>10.001848</td>\n",
       "      <td>12.016000</td>\n",
       "      <td>...</td>\n",
       "      <td>172.624816</td>\n",
       "      <td>3392.341550</td>\n",
       "      <td>3.490800</td>\n",
       "      <td>3.505100</td>\n",
       "      <td>3.487000</td>\n",
       "      <td>3.497500</td>\n",
       "      <td>3.492900</td>\n",
       "      <td>3.497300</td>\n",
       "      <td>3.509500</td>\n",
       "      <td>3.495600</td>\n",
       "    </tr>\n",
       "    <tr>\n",
       "      <th>std</th>\n",
       "      <td>2886.89568</td>\n",
       "      <td>27532.196108</td>\n",
       "      <td>5.437389</td>\n",
       "      <td>15.156142</td>\n",
       "      <td>14400.373732</td>\n",
       "      <td>2.1472</td>\n",
       "      <td>20.698882</td>\n",
       "      <td>28199.916702</td>\n",
       "      <td>2.976019</td>\n",
       "      <td>3.025898</td>\n",
       "      <td>...</td>\n",
       "      <td>42.943094</td>\n",
       "      <td>2185.294852</td>\n",
       "      <td>1.037797</td>\n",
       "      <td>1.034641</td>\n",
       "      <td>1.027977</td>\n",
       "      <td>1.025816</td>\n",
       "      <td>1.024819</td>\n",
       "      <td>1.033586</td>\n",
       "      <td>1.028502</td>\n",
       "      <td>1.028633</td>\n",
       "    </tr>\n",
       "    <tr>\n",
       "      <th>min</th>\n",
       "      <td>1.00000</td>\n",
       "      <td>601.000000</td>\n",
       "      <td>17.966120</td>\n",
       "      <td>-171.688150</td>\n",
       "      <td>2.000000</td>\n",
       "      <td>0.0000</td>\n",
       "      <td>18.000000</td>\n",
       "      <td>348.670000</td>\n",
       "      <td>0.099747</td>\n",
       "      <td>1.000000</td>\n",
       "      <td>...</td>\n",
       "      <td>79.978860</td>\n",
       "      <td>155.506715</td>\n",
       "      <td>1.000000</td>\n",
       "      <td>1.000000</td>\n",
       "      <td>1.000000</td>\n",
       "      <td>1.000000</td>\n",
       "      <td>1.000000</td>\n",
       "      <td>1.000000</td>\n",
       "      <td>1.000000</td>\n",
       "      <td>1.000000</td>\n",
       "    </tr>\n",
       "    <tr>\n",
       "      <th>25%</th>\n",
       "      <td>2500.75000</td>\n",
       "      <td>26292.500000</td>\n",
       "      <td>35.341828</td>\n",
       "      <td>-97.082812</td>\n",
       "      <td>782.000000</td>\n",
       "      <td>0.0000</td>\n",
       "      <td>35.000000</td>\n",
       "      <td>19224.717500</td>\n",
       "      <td>8.018214</td>\n",
       "      <td>10.000000</td>\n",
       "      <td>...</td>\n",
       "      <td>139.979239</td>\n",
       "      <td>1236.470827</td>\n",
       "      <td>3.000000</td>\n",
       "      <td>3.000000</td>\n",
       "      <td>3.000000</td>\n",
       "      <td>3.000000</td>\n",
       "      <td>3.000000</td>\n",
       "      <td>3.000000</td>\n",
       "      <td>3.000000</td>\n",
       "      <td>3.000000</td>\n",
       "    </tr>\n",
       "    <tr>\n",
       "      <th>50%</th>\n",
       "      <td>5000.50000</td>\n",
       "      <td>48869.500000</td>\n",
       "      <td>39.395800</td>\n",
       "      <td>-87.918800</td>\n",
       "      <td>3064.000000</td>\n",
       "      <td>1.0000</td>\n",
       "      <td>53.000000</td>\n",
       "      <td>33170.605000</td>\n",
       "      <td>10.018560</td>\n",
       "      <td>12.000000</td>\n",
       "      <td>...</td>\n",
       "      <td>167.484700</td>\n",
       "      <td>3279.536903</td>\n",
       "      <td>3.000000</td>\n",
       "      <td>4.000000</td>\n",
       "      <td>3.000000</td>\n",
       "      <td>3.000000</td>\n",
       "      <td>3.000000</td>\n",
       "      <td>3.000000</td>\n",
       "      <td>4.000000</td>\n",
       "      <td>3.000000</td>\n",
       "    </tr>\n",
       "    <tr>\n",
       "      <th>75%</th>\n",
       "      <td>7500.25000</td>\n",
       "      <td>71866.500000</td>\n",
       "      <td>42.106908</td>\n",
       "      <td>-80.088745</td>\n",
       "      <td>13168.000000</td>\n",
       "      <td>3.0000</td>\n",
       "      <td>71.000000</td>\n",
       "      <td>53246.170000</td>\n",
       "      <td>11.969485</td>\n",
       "      <td>14.000000</td>\n",
       "      <td>...</td>\n",
       "      <td>200.734725</td>\n",
       "      <td>5586.141370</td>\n",
       "      <td>4.000000</td>\n",
       "      <td>4.000000</td>\n",
       "      <td>4.000000</td>\n",
       "      <td>4.000000</td>\n",
       "      <td>4.000000</td>\n",
       "      <td>4.000000</td>\n",
       "      <td>4.000000</td>\n",
       "      <td>4.000000</td>\n",
       "    </tr>\n",
       "    <tr>\n",
       "      <th>max</th>\n",
       "      <td>10000.00000</td>\n",
       "      <td>99929.000000</td>\n",
       "      <td>70.640660</td>\n",
       "      <td>-65.667850</td>\n",
       "      <td>111850.000000</td>\n",
       "      <td>10.0000</td>\n",
       "      <td>89.000000</td>\n",
       "      <td>258900.700000</td>\n",
       "      <td>21.207230</td>\n",
       "      <td>23.000000</td>\n",
       "      <td>...</td>\n",
       "      <td>290.160419</td>\n",
       "      <td>7158.981530</td>\n",
       "      <td>7.000000</td>\n",
       "      <td>7.000000</td>\n",
       "      <td>8.000000</td>\n",
       "      <td>7.000000</td>\n",
       "      <td>7.000000</td>\n",
       "      <td>8.000000</td>\n",
       "      <td>7.000000</td>\n",
       "      <td>8.000000</td>\n",
       "    </tr>\n",
       "  </tbody>\n",
       "</table>\n",
       "<p>8 rows × 23 columns</p>\n",
       "</div>"
      ],
      "text/plain": [
       "         CaseOrder           Zip           Lat           Lng     Population  \\\n",
       "count  10000.00000  10000.000000  10000.000000  10000.000000   10000.000000   \n",
       "mean    5000.50000  49153.319600     38.757567    -90.782536    9851.073089   \n",
       "std     2886.89568  27532.196108      5.437389     15.156142   14400.373732   \n",
       "min        1.00000    601.000000     17.966120   -171.688150       2.000000   \n",
       "25%     2500.75000  26292.500000     35.341828    -97.082812     782.000000   \n",
       "50%     5000.50000  48869.500000     39.395800    -87.918800    3064.000000   \n",
       "75%     7500.25000  71866.500000     42.106908    -80.088745   13168.000000   \n",
       "max    10000.00000  99929.000000     70.640660    -65.667850  111850.000000   \n",
       "\n",
       "         Children           Age         Income  Outage_sec_perweek  \\\n",
       "count  10000.0000  10000.000000   10000.000000        10000.000000   \n",
       "mean       2.0877     53.078400   39806.926771           10.001848   \n",
       "std        2.1472     20.698882   28199.916702            2.976019   \n",
       "min        0.0000     18.000000     348.670000            0.099747   \n",
       "25%        0.0000     35.000000   19224.717500            8.018214   \n",
       "50%        1.0000     53.000000   33170.605000           10.018560   \n",
       "75%        3.0000     71.000000   53246.170000           11.969485   \n",
       "max       10.0000     89.000000  258900.700000           21.207230   \n",
       "\n",
       "              Email  ...  MonthlyCharge  Bandwidth_GB_Year  TimelyResponse  \\\n",
       "count  10000.000000  ...   10000.000000       10000.000000    10000.000000   \n",
       "mean      12.016000  ...     172.624816        3392.341550        3.490800   \n",
       "std        3.025898  ...      42.943094        2185.294852        1.037797   \n",
       "min        1.000000  ...      79.978860         155.506715        1.000000   \n",
       "25%       10.000000  ...     139.979239        1236.470827        3.000000   \n",
       "50%       12.000000  ...     167.484700        3279.536903        3.000000   \n",
       "75%       14.000000  ...     200.734725        5586.141370        4.000000   \n",
       "max       23.000000  ...     290.160419        7158.981530        7.000000   \n",
       "\n",
       "        TimelyFixes  TimelyReplacements   Reliability       Options  \\\n",
       "count  10000.000000        10000.000000  10000.000000  10000.000000   \n",
       "mean       3.505100            3.487000      3.497500      3.492900   \n",
       "std        1.034641            1.027977      1.025816      1.024819   \n",
       "min        1.000000            1.000000      1.000000      1.000000   \n",
       "25%        3.000000            3.000000      3.000000      3.000000   \n",
       "50%        4.000000            3.000000      3.000000      3.000000   \n",
       "75%        4.000000            4.000000      4.000000      4.000000   \n",
       "max        7.000000            8.000000      7.000000      7.000000   \n",
       "\n",
       "       RespectfulResponse  CourteousExchange  EvidenceActiveListening  \n",
       "count        10000.000000       10000.000000             10000.000000  \n",
       "mean             3.497300           3.509500                 3.495600  \n",
       "std              1.033586           1.028502                 1.028633  \n",
       "min              1.000000           1.000000                 1.000000  \n",
       "25%              3.000000           3.000000                 3.000000  \n",
       "50%              3.000000           4.000000                 3.000000  \n",
       "75%              4.000000           4.000000                 4.000000  \n",
       "max              8.000000           7.000000                 8.000000  \n",
       "\n",
       "[8 rows x 23 columns]"
      ]
     },
     "execution_count": 8,
     "metadata": {},
     "output_type": "execute_result"
    }
   ],
   "source": [
    "# summary statistics for initial DataFrame\n",
    "churn_df.describe()"
   ]
  },
  {
   "cell_type": "code",
   "execution_count": 9,
   "id": "4f15ebbb",
   "metadata": {},
   "outputs": [],
   "source": [
    "# seperating features that will be used in model\n",
    "features = ['MonthlyCharge', 'Bandwidth_GB_Year','StreamingMovies', 'StreamingTV', 'Age']"
   ]
  },
  {
   "cell_type": "code",
   "execution_count": 10,
   "id": "0ec51a89",
   "metadata": {},
   "outputs": [
    {
     "data": {
      "text/plain": [
       "['MonthlyCharge',\n",
       " 'Bandwidth_GB_Year',\n",
       " 'Age',\n",
       " 'StreamingMovies_Yes',\n",
       " 'StreamingTV_Yes']"
      ]
     },
     "execution_count": 10,
     "metadata": {},
     "output_type": "execute_result"
    }
   ],
   "source": [
    "# Creating dummy variables\n",
    "df_dummies = pd.get_dummies(churn_df[features], drop_first = True)\n",
    "# generating list of all columns in dummies dataframe\n",
    "list(df_dummies.columns)"
   ]
  },
  {
   "cell_type": "code",
   "execution_count": 11,
   "id": "4b1423ba",
   "metadata": {},
   "outputs": [
    {
     "name": "stdout",
     "output_type": "stream",
     "text": [
      "<class 'pandas.core.frame.DataFrame'>\n",
      "RangeIndex: 10000 entries, 0 to 9999\n",
      "Data columns (total 5 columns):\n",
      " #   Column             Non-Null Count  Dtype  \n",
      "---  ------             --------------  -----  \n",
      " 0   MonthlyCharge      10000 non-null  float64\n",
      " 1   Bandwidth_GB_Year  10000 non-null  float64\n",
      " 2   Age                10000 non-null  int64  \n",
      " 3   StreamingMovies    10000 non-null  uint8  \n",
      " 4   StreamingTV        10000 non-null  uint8  \n",
      "dtypes: float64(2), int64(1), uint8(2)\n",
      "memory usage: 254.0 KB\n"
     ]
    }
   ],
   "source": [
    "# Updating column names after converting to dummy variable value\n",
    "df_dummies.rename(columns = {'StreamingMovies_Yes':'StreamingMovies',\n",
    "                             'StreamingTV_Yes':'StreamingTV'}, inplace=True)\n",
    "df_dummies.info()"
   ]
  },
  {
   "cell_type": "code",
   "execution_count": 12,
   "id": "93258e29",
   "metadata": {},
   "outputs": [
    {
     "name": "stdout",
     "output_type": "stream",
     "text": [
      "Index(['CaseOrder', 'Customer_id', 'Interaction', 'UID', 'City', 'State',\n",
      "       'County', 'Zip', 'Lat', 'Lng', 'Population', 'Area', 'TimeZone', 'Job',\n",
      "       'Children', 'Age', 'Income', 'Marital', 'Gender', 'Churn',\n",
      "       'Outage_sec_perweek', 'Email', 'Contacts', 'Yearly_equip_failure',\n",
      "       'Techie', 'Contract', 'Port_modem', 'Tablet', 'InternetService',\n",
      "       'Phone', 'Multiple', 'OnlineSecurity', 'OnlineBackup',\n",
      "       'DeviceProtection', 'TechSupport', 'StreamingTV', 'StreamingMovies',\n",
      "       'PaperlessBilling', 'PaymentMethod', 'Tenure', 'MonthlyCharge',\n",
      "       'Bandwidth_GB_Year', 'TimelyResponse', 'TimelyFixes',\n",
      "       'TimelyReplacements', 'Reliability', 'Options', 'RespectfulResponse',\n",
      "       'CourteousExchange', 'EvidenceActiveListening'],\n",
      "      dtype='object')\n"
     ]
    }
   ],
   "source": [
    "print(churn_df.keys())"
   ]
  },
  {
   "cell_type": "markdown",
   "id": "692f2175",
   "metadata": {},
   "source": [
    "<h3>C4.  Provide a copy of the cleaned data set.</h3>"
   ]
  },
  {
   "cell_type": "code",
   "execution_count": 13,
   "id": "21990260",
   "metadata": {},
   "outputs": [],
   "source": [
    "# Exporting full cleaned dataframe to csv\n",
    "churn_df.to_csv('churn_df.csv', index=False)\n",
    "\n",
    "# Exporting full cleaned dataframe with dummies to csv\n",
    "df_dummies.to_csv('df_dummies.csv', index=False)"
   ]
  },
  {
   "cell_type": "markdown",
   "id": "4f6cdc5d",
   "metadata": {},
   "source": [
    "<h3>Part IV.  Analysis</h3>"
   ]
  },
  {
   "cell_type": "markdown",
   "id": "fb3fd882",
   "metadata": {},
   "source": [
    "<h3>D.  Perform the data analysis and report on the results by doing the following:</h3>"
   ]
  },
  {
   "cell_type": "markdown",
   "id": "5865b619",
   "metadata": {},
   "source": [
    "<h3>D1.  Split the data into training and test data sets and provide the file(s).</h3>\n",
    "\n",
    "The following cells of annotated code contain the steps to separate the selected features to use for analysis, followed by creating train test data using the sklearn.model_selection train_test_split package for seperation. \n",
    "\n",
    "Files containing the seperated datasets have been exported for review as shown in the code below."
   ]
  },
  {
   "cell_type": "code",
   "execution_count": 14,
   "id": "d6815352",
   "metadata": {},
   "outputs": [],
   "source": [
    "# Seperating variables for training/testing\n",
    "X = df_dummies[['MonthlyCharge','Bandwidth_GB_Year', 'StreamingTV', 'Age']]\n",
    "y = df_dummies['StreamingMovies']"
   ]
  },
  {
   "cell_type": "code",
   "execution_count": 15,
   "id": "6a10fcfa",
   "metadata": {},
   "outputs": [],
   "source": [
    "# splitting dataset for training test ssplit\n",
    "X_train, X_test, y_train, y_test = train_test_split(X, y, test_size=.3, random_state=42, stratify=y)"
   ]
  },
  {
   "cell_type": "code",
   "execution_count": 16,
   "id": "228f3f3b",
   "metadata": {},
   "outputs": [],
   "source": [
    "# outputting training/testing data to csv files\n",
    "X_train.to_csv('X_train.csv', index=False)\n",
    "y_train.to_csv('y_train.csv', index=False)\n",
    "X_test.to_csv('X_test.csv', index=False)\n",
    "y_test.to_csv('y_test.csv', index=False)"
   ]
  },
  {
   "cell_type": "markdown",
   "id": "7324ecbe",
   "metadata": {},
   "source": [
    "<h3>D2.  Describe the analysis technique you used to appropriately analyze the data. Include screenshots of the intermediate calculations you performed.</h3>\n",
    "\n",
    "After utilizing a Scaler on the selected features, the K Nearest Neighbors function score was utilized to assess the proficiency of the created model. The use of this function has been included within the annotated code below for further review.\n"
   ]
  },
  {
   "cell_type": "code",
   "execution_count": 17,
   "id": "fc19c526",
   "metadata": {},
   "outputs": [
    {
     "name": "stderr",
     "output_type": "stream",
     "text": [
      "/var/folders/g4/mgph2fd122l8m7vwcwttk_bh0000gn/T/ipykernel_2451/3908769718.py:2: DeprecationWarning: `np.float` is a deprecated alias for the builtin `float`. To silence this warning, use `float` by itself. Doing this will not modify any behavior and is safe. If you specifically wanted the numpy scalar type, use `np.float64` here.\n",
      "Deprecated in NumPy 1.20; for more details and guidance: https://numpy.org/devdocs/release/1.20.0-notes.html#deprecations\n",
      "  X_train = scaler.fit_transform(X_train.astype(np.float))\n",
      "/var/folders/g4/mgph2fd122l8m7vwcwttk_bh0000gn/T/ipykernel_2451/3908769718.py:4: DeprecationWarning: `np.float` is a deprecated alias for the builtin `float`. To silence this warning, use `float` by itself. Doing this will not modify any behavior and is safe. If you specifically wanted the numpy scalar type, use `np.float64` here.\n",
      "Deprecated in NumPy 1.20; for more details and guidance: https://numpy.org/devdocs/release/1.20.0-notes.html#deprecations\n",
      "  X_test = scaler.transform(X_test.astype(np.float))\n"
     ]
    }
   ],
   "source": [
    "scaler = MinMaxScaler()\n",
    "X_train = scaler.fit_transform(X_train.astype(np.float))\n",
    "# we must apply the scaling to the test set that we computed for the training set\n",
    "X_test = scaler.transform(X_test.astype(np.float))"
   ]
  },
  {
   "cell_type": "code",
   "execution_count": 18,
   "id": "a6821911",
   "metadata": {},
   "outputs": [
    {
     "name": "stderr",
     "output_type": "stream",
     "text": [
      "/var/folders/g4/mgph2fd122l8m7vwcwttk_bh0000gn/T/ipykernel_2451/3874807763.py:2: DeprecationWarning: `np.float` is a deprecated alias for the builtin `float`. To silence this warning, use `float` by itself. Doing this will not modify any behavior and is safe. If you specifically wanted the numpy scalar type, use `np.float64` here.\n",
      "Deprecated in NumPy 1.20; for more details and guidance: https://numpy.org/devdocs/release/1.20.0-notes.html#deprecations\n",
      "  X_train = s_scaler.fit_transform(X_train.astype(np.float))\n",
      "/var/folders/g4/mgph2fd122l8m7vwcwttk_bh0000gn/T/ipykernel_2451/3874807763.py:4: DeprecationWarning: `np.float` is a deprecated alias for the builtin `float`. To silence this warning, use `float` by itself. Doing this will not modify any behavior and is safe. If you specifically wanted the numpy scalar type, use `np.float64` here.\n",
      "Deprecated in NumPy 1.20; for more details and guidance: https://numpy.org/devdocs/release/1.20.0-notes.html#deprecations\n",
      "  X_test = s_scaler.transform(X_test.astype(np.float))\n"
     ]
    }
   ],
   "source": [
    "s_scaler = StandardScaler()\n",
    "X_train = s_scaler.fit_transform(X_train.astype(np.float))\n",
    "# we must apply the scaling to the test set that we computed for the training set\n",
    "X_test = s_scaler.transform(X_test.astype(np.float))"
   ]
  },
  {
   "cell_type": "code",
   "execution_count": 19,
   "id": "2fdac20b",
   "metadata": {},
   "outputs": [
    {
     "data": {
      "text/html": [
       "<style>#sk-container-id-1 {color: black;background-color: white;}#sk-container-id-1 pre{padding: 0;}#sk-container-id-1 div.sk-toggleable {background-color: white;}#sk-container-id-1 label.sk-toggleable__label {cursor: pointer;display: block;width: 100%;margin-bottom: 0;padding: 0.3em;box-sizing: border-box;text-align: center;}#sk-container-id-1 label.sk-toggleable__label-arrow:before {content: \"▸\";float: left;margin-right: 0.25em;color: #696969;}#sk-container-id-1 label.sk-toggleable__label-arrow:hover:before {color: black;}#sk-container-id-1 div.sk-estimator:hover label.sk-toggleable__label-arrow:before {color: black;}#sk-container-id-1 div.sk-toggleable__content {max-height: 0;max-width: 0;overflow: hidden;text-align: left;background-color: #f0f8ff;}#sk-container-id-1 div.sk-toggleable__content pre {margin: 0.2em;color: black;border-radius: 0.25em;background-color: #f0f8ff;}#sk-container-id-1 input.sk-toggleable__control:checked~div.sk-toggleable__content {max-height: 200px;max-width: 100%;overflow: auto;}#sk-container-id-1 input.sk-toggleable__control:checked~label.sk-toggleable__label-arrow:before {content: \"▾\";}#sk-container-id-1 div.sk-estimator input.sk-toggleable__control:checked~label.sk-toggleable__label {background-color: #d4ebff;}#sk-container-id-1 div.sk-label input.sk-toggleable__control:checked~label.sk-toggleable__label {background-color: #d4ebff;}#sk-container-id-1 input.sk-hidden--visually {border: 0;clip: rect(1px 1px 1px 1px);clip: rect(1px, 1px, 1px, 1px);height: 1px;margin: -1px;overflow: hidden;padding: 0;position: absolute;width: 1px;}#sk-container-id-1 div.sk-estimator {font-family: monospace;background-color: #f0f8ff;border: 1px dotted black;border-radius: 0.25em;box-sizing: border-box;margin-bottom: 0.5em;}#sk-container-id-1 div.sk-estimator:hover {background-color: #d4ebff;}#sk-container-id-1 div.sk-parallel-item::after {content: \"\";width: 100%;border-bottom: 1px solid gray;flex-grow: 1;}#sk-container-id-1 div.sk-label:hover label.sk-toggleable__label {background-color: #d4ebff;}#sk-container-id-1 div.sk-serial::before {content: \"\";position: absolute;border-left: 1px solid gray;box-sizing: border-box;top: 0;bottom: 0;left: 50%;z-index: 0;}#sk-container-id-1 div.sk-serial {display: flex;flex-direction: column;align-items: center;background-color: white;padding-right: 0.2em;padding-left: 0.2em;position: relative;}#sk-container-id-1 div.sk-item {position: relative;z-index: 1;}#sk-container-id-1 div.sk-parallel {display: flex;align-items: stretch;justify-content: center;background-color: white;position: relative;}#sk-container-id-1 div.sk-item::before, #sk-container-id-1 div.sk-parallel-item::before {content: \"\";position: absolute;border-left: 1px solid gray;box-sizing: border-box;top: 0;bottom: 0;left: 50%;z-index: -1;}#sk-container-id-1 div.sk-parallel-item {display: flex;flex-direction: column;z-index: 1;position: relative;background-color: white;}#sk-container-id-1 div.sk-parallel-item:first-child::after {align-self: flex-end;width: 50%;}#sk-container-id-1 div.sk-parallel-item:last-child::after {align-self: flex-start;width: 50%;}#sk-container-id-1 div.sk-parallel-item:only-child::after {width: 0;}#sk-container-id-1 div.sk-dashed-wrapped {border: 1px dashed gray;margin: 0 0.4em 0.5em 0.4em;box-sizing: border-box;padding-bottom: 0.4em;background-color: white;}#sk-container-id-1 div.sk-label label {font-family: monospace;font-weight: bold;display: inline-block;line-height: 1.2em;}#sk-container-id-1 div.sk-label-container {text-align: center;}#sk-container-id-1 div.sk-container {/* jupyter's `normalize.less` sets `[hidden] { display: none; }` but bootstrap.min.css set `[hidden] { display: none !important; }` so we also need the `!important` here to be able to override the default hidden behavior on the sphinx rendered scikit-learn.org. See: https://github.com/scikit-learn/scikit-learn/issues/21755 */display: inline-block !important;position: relative;}#sk-container-id-1 div.sk-text-repr-fallback {display: none;}</style><div id=\"sk-container-id-1\" class=\"sk-top-container\"><div class=\"sk-text-repr-fallback\"><pre>KNeighborsClassifier()</pre><b>In a Jupyter environment, please rerun this cell to show the HTML representation or trust the notebook. <br />On GitHub, the HTML representation is unable to render, please try loading this page with nbviewer.org.</b></div><div class=\"sk-container\" hidden><div class=\"sk-item\"><div class=\"sk-estimator sk-toggleable\"><input class=\"sk-toggleable__control sk-hidden--visually\" id=\"sk-estimator-id-1\" type=\"checkbox\" checked><label for=\"sk-estimator-id-1\" class=\"sk-toggleable__label sk-toggleable__label-arrow\">KNeighborsClassifier</label><div class=\"sk-toggleable__content\"><pre>KNeighborsClassifier()</pre></div></div></div></div></div>"
      ],
      "text/plain": [
       "KNeighborsClassifier()"
      ]
     },
     "execution_count": 19,
     "metadata": {},
     "output_type": "execute_result"
    }
   ],
   "source": [
    "# Setting up KNN with 5 Nearest Neighbors\n",
    "knn = KNN(n_neighbors = 5) \n",
    "knn.fit(X_train, y_train)"
   ]
  },
  {
   "cell_type": "code",
   "execution_count": 20,
   "id": "20956440",
   "metadata": {},
   "outputs": [
    {
     "name": "stdout",
     "output_type": "stream",
     "text": [
      "Accuracy of K-NN classifier on training set: 0.86\n",
      "Accuracy of K-NN classifier on test set: 0.79\n"
     ]
    }
   ],
   "source": [
    "#Checking performance on the training set\n",
    "print('Accuracy of K-NN classifier on training set: {:.2f}'\n",
    "     .format(knn.score(X_train, y_train)))\n",
    "#Checking performance on the test set\n",
    "print('Accuracy of K-NN classifier on test set: {:.2f}'\n",
    "     .format(knn.score(X_test, y_test)))"
   ]
  },
  {
   "cell_type": "markdown",
   "id": "1e0eeba8",
   "metadata": {},
   "source": [
    "<h3>D3.  Provide the code used to perform the prediction analysis from part D2.</h3>"
   ]
  },
  {
   "cell_type": "code",
   "execution_count": 21,
   "id": "64fa8c1c",
   "metadata": {},
   "outputs": [],
   "source": [
    "# Setting the seed\n",
    "SEED = 24"
   ]
  },
  {
   "cell_type": "code",
   "execution_count": 22,
   "id": "693a6ba9",
   "metadata": {},
   "outputs": [],
   "source": [
    "# Instantiate KNN\n",
    "knn = KNN(n_neighbors=5)\n",
    "\n",
    "param_grid = {'n_neighbors': np.arange(1, 15)}\n",
    "knn_cv = GridSearchCV(knn, param_grid)"
   ]
  },
  {
   "cell_type": "code",
   "execution_count": 23,
   "id": "bdd6506d",
   "metadata": {},
   "outputs": [
    {
     "data": {
      "text/html": [
       "<style>#sk-container-id-2 {color: black;background-color: white;}#sk-container-id-2 pre{padding: 0;}#sk-container-id-2 div.sk-toggleable {background-color: white;}#sk-container-id-2 label.sk-toggleable__label {cursor: pointer;display: block;width: 100%;margin-bottom: 0;padding: 0.3em;box-sizing: border-box;text-align: center;}#sk-container-id-2 label.sk-toggleable__label-arrow:before {content: \"▸\";float: left;margin-right: 0.25em;color: #696969;}#sk-container-id-2 label.sk-toggleable__label-arrow:hover:before {color: black;}#sk-container-id-2 div.sk-estimator:hover label.sk-toggleable__label-arrow:before {color: black;}#sk-container-id-2 div.sk-toggleable__content {max-height: 0;max-width: 0;overflow: hidden;text-align: left;background-color: #f0f8ff;}#sk-container-id-2 div.sk-toggleable__content pre {margin: 0.2em;color: black;border-radius: 0.25em;background-color: #f0f8ff;}#sk-container-id-2 input.sk-toggleable__control:checked~div.sk-toggleable__content {max-height: 200px;max-width: 100%;overflow: auto;}#sk-container-id-2 input.sk-toggleable__control:checked~label.sk-toggleable__label-arrow:before {content: \"▾\";}#sk-container-id-2 div.sk-estimator input.sk-toggleable__control:checked~label.sk-toggleable__label {background-color: #d4ebff;}#sk-container-id-2 div.sk-label input.sk-toggleable__control:checked~label.sk-toggleable__label {background-color: #d4ebff;}#sk-container-id-2 input.sk-hidden--visually {border: 0;clip: rect(1px 1px 1px 1px);clip: rect(1px, 1px, 1px, 1px);height: 1px;margin: -1px;overflow: hidden;padding: 0;position: absolute;width: 1px;}#sk-container-id-2 div.sk-estimator {font-family: monospace;background-color: #f0f8ff;border: 1px dotted black;border-radius: 0.25em;box-sizing: border-box;margin-bottom: 0.5em;}#sk-container-id-2 div.sk-estimator:hover {background-color: #d4ebff;}#sk-container-id-2 div.sk-parallel-item::after {content: \"\";width: 100%;border-bottom: 1px solid gray;flex-grow: 1;}#sk-container-id-2 div.sk-label:hover label.sk-toggleable__label {background-color: #d4ebff;}#sk-container-id-2 div.sk-serial::before {content: \"\";position: absolute;border-left: 1px solid gray;box-sizing: border-box;top: 0;bottom: 0;left: 50%;z-index: 0;}#sk-container-id-2 div.sk-serial {display: flex;flex-direction: column;align-items: center;background-color: white;padding-right: 0.2em;padding-left: 0.2em;position: relative;}#sk-container-id-2 div.sk-item {position: relative;z-index: 1;}#sk-container-id-2 div.sk-parallel {display: flex;align-items: stretch;justify-content: center;background-color: white;position: relative;}#sk-container-id-2 div.sk-item::before, #sk-container-id-2 div.sk-parallel-item::before {content: \"\";position: absolute;border-left: 1px solid gray;box-sizing: border-box;top: 0;bottom: 0;left: 50%;z-index: -1;}#sk-container-id-2 div.sk-parallel-item {display: flex;flex-direction: column;z-index: 1;position: relative;background-color: white;}#sk-container-id-2 div.sk-parallel-item:first-child::after {align-self: flex-end;width: 50%;}#sk-container-id-2 div.sk-parallel-item:last-child::after {align-self: flex-start;width: 50%;}#sk-container-id-2 div.sk-parallel-item:only-child::after {width: 0;}#sk-container-id-2 div.sk-dashed-wrapped {border: 1px dashed gray;margin: 0 0.4em 0.5em 0.4em;box-sizing: border-box;padding-bottom: 0.4em;background-color: white;}#sk-container-id-2 div.sk-label label {font-family: monospace;font-weight: bold;display: inline-block;line-height: 1.2em;}#sk-container-id-2 div.sk-label-container {text-align: center;}#sk-container-id-2 div.sk-container {/* jupyter's `normalize.less` sets `[hidden] { display: none; }` but bootstrap.min.css set `[hidden] { display: none !important; }` so we also need the `!important` here to be able to override the default hidden behavior on the sphinx rendered scikit-learn.org. See: https://github.com/scikit-learn/scikit-learn/issues/21755 */display: inline-block !important;position: relative;}#sk-container-id-2 div.sk-text-repr-fallback {display: none;}</style><div id=\"sk-container-id-2\" class=\"sk-top-container\"><div class=\"sk-text-repr-fallback\"><pre>GridSearchCV(estimator=KNeighborsClassifier(),\n",
       "             param_grid={&#x27;n_neighbors&#x27;: array([ 1,  2,  3,  4,  5,  6,  7,  8,  9, 10, 11, 12, 13, 14])})</pre><b>In a Jupyter environment, please rerun this cell to show the HTML representation or trust the notebook. <br />On GitHub, the HTML representation is unable to render, please try loading this page with nbviewer.org.</b></div><div class=\"sk-container\" hidden><div class=\"sk-item sk-dashed-wrapped\"><div class=\"sk-label-container\"><div class=\"sk-label sk-toggleable\"><input class=\"sk-toggleable__control sk-hidden--visually\" id=\"sk-estimator-id-2\" type=\"checkbox\" ><label for=\"sk-estimator-id-2\" class=\"sk-toggleable__label sk-toggleable__label-arrow\">GridSearchCV</label><div class=\"sk-toggleable__content\"><pre>GridSearchCV(estimator=KNeighborsClassifier(),\n",
       "             param_grid={&#x27;n_neighbors&#x27;: array([ 1,  2,  3,  4,  5,  6,  7,  8,  9, 10, 11, 12, 13, 14])})</pre></div></div></div><div class=\"sk-parallel\"><div class=\"sk-parallel-item\"><div class=\"sk-item\"><div class=\"sk-label-container\"><div class=\"sk-label sk-toggleable\"><input class=\"sk-toggleable__control sk-hidden--visually\" id=\"sk-estimator-id-3\" type=\"checkbox\" ><label for=\"sk-estimator-id-3\" class=\"sk-toggleable__label sk-toggleable__label-arrow\">estimator: KNeighborsClassifier</label><div class=\"sk-toggleable__content\"><pre>KNeighborsClassifier()</pre></div></div></div><div class=\"sk-serial\"><div class=\"sk-item\"><div class=\"sk-estimator sk-toggleable\"><input class=\"sk-toggleable__control sk-hidden--visually\" id=\"sk-estimator-id-4\" type=\"checkbox\" ><label for=\"sk-estimator-id-4\" class=\"sk-toggleable__label sk-toggleable__label-arrow\">KNeighborsClassifier</label><div class=\"sk-toggleable__content\"><pre>KNeighborsClassifier()</pre></div></div></div></div></div></div></div></div></div></div>"
      ],
      "text/plain": [
       "GridSearchCV(estimator=KNeighborsClassifier(),\n",
       "             param_grid={'n_neighbors': array([ 1,  2,  3,  4,  5,  6,  7,  8,  9, 10, 11, 12, 13, 14])})"
      ]
     },
     "execution_count": 23,
     "metadata": {},
     "output_type": "execute_result"
    }
   ],
   "source": [
    "knn.fit(X_train, y_train)\n",
    "knn_cv.fit(X_train, y_train)"
   ]
  },
  {
   "cell_type": "code",
   "execution_count": 24,
   "id": "28071f41",
   "metadata": {},
   "outputs": [
    {
     "data": {
      "text/plain": [
       "{'n_neighbors': 13}"
      ]
     },
     "execution_count": 24,
     "metadata": {},
     "output_type": "execute_result"
    }
   ],
   "source": [
    "# using gridsearchcv to review models best_params_\n",
    "knn_cv.best_params_"
   ]
  },
  {
   "cell_type": "code",
   "execution_count": 25,
   "id": "3b9eb439",
   "metadata": {},
   "outputs": [
    {
     "data": {
      "text/plain": [
       "0.815857142857143"
      ]
     },
     "execution_count": 25,
     "metadata": {},
     "output_type": "execute_result"
    }
   ],
   "source": [
    "# using gridsearchcv to review models best_score_\n",
    "knn_cv.best_score_"
   ]
  },
  {
   "cell_type": "code",
   "execution_count": 26,
   "id": "70eee122",
   "metadata": {},
   "outputs": [],
   "source": [
    "y_pred = knn.predict(X_test)\n",
    "y_pred_prob = knn.predict_proba(X_test)[:,1]"
   ]
  },
  {
   "cell_type": "code",
   "execution_count": 27,
   "id": "400d75a5",
   "metadata": {},
   "outputs": [
    {
     "name": "stdout",
     "output_type": "stream",
     "text": [
      "Test set predictions: [1 1 0 ... 0 1 0]\n"
     ]
    }
   ],
   "source": [
    "print(\"Test set predictions: {}\".format(y_pred))"
   ]
  },
  {
   "cell_type": "code",
   "execution_count": 28,
   "id": "61f2bfe0",
   "metadata": {},
   "outputs": [
    {
     "data": {
      "text/plain": [
       "0.7946666666666666"
      ]
     },
     "execution_count": 28,
     "metadata": {},
     "output_type": "execute_result"
    }
   ],
   "source": [
    "knn.score(X_test, y_test)"
   ]
  },
  {
   "cell_type": "code",
   "execution_count": 29,
   "id": "7b6a4efc",
   "metadata": {},
   "outputs": [
    {
     "name": "stdout",
     "output_type": "stream",
     "text": [
      "[[1227  306]\n",
      " [ 310 1157]]\n",
      "              precision    recall  f1-score   support\n",
      "\n",
      "           0       0.80      0.80      0.80      1533\n",
      "           1       0.79      0.79      0.79      1467\n",
      "\n",
      "    accuracy                           0.79      3000\n",
      "   macro avg       0.79      0.79      0.79      3000\n",
      "weighted avg       0.79      0.79      0.79      3000\n",
      "\n"
     ]
    }
   ],
   "source": [
    "# Generate the confusion matrix and classification report\n",
    "print(confusion_matrix(y_test, y_pred))\n",
    "print(classification_report(y_test, y_pred))"
   ]
  },
  {
   "cell_type": "code",
   "execution_count": 34,
   "id": "46ccde79",
   "metadata": {},
   "outputs": [
    {
     "data": {
      "image/png": "[encoded data removed]",
      "text/plain": [
       "<Figure size 432x288 with 1 Axes>"
      ]
     },
     "metadata": {
      "needs_background": "light"
     },
     "output_type": "display_data"
    }
   ],
   "source": [
    "# Generate plot\n",
    "plt.title('k-NN: Varying Number of Neighbors')\n",
    "plt.plot(neighbors, test_accuracy, label = 'Testing Accuracy')\n",
    "plt.plot(neighbors, train_accuracy, label = 'Training Accuracy')\n",
    "plt.legend()\n",
    "plt.xlabel('Number of Neighbors')\n",
    "plt.ylabel('Accuracy')\n",
    "plt.show()"
   ]
  },
  {
   "cell_type": "code",
   "execution_count": 30,
   "id": "12e59403",
   "metadata": {},
   "outputs": [
    {
     "name": "stdout",
     "output_type": "stream",
     "text": [
      "Test set RMSE of rf: 0.45\n"
     ]
    }
   ],
   "source": [
    "# evaluate test sets rmse \n",
    "rmse_test = MSE(y_test, y_pred)**(1/2)\n",
    "\n",
    "# print test set RMSE score\n",
    "print('Test set RMSE of rf: {:.2f}'.format(rmse_test))"
   ]
  },
  {
   "cell_type": "markdown",
   "id": "68651eb6",
   "metadata": {},
   "source": [
    "<h3>Part V: Data Summary and Implications</h3>"
   ]
  },
  {
   "cell_type": "markdown",
   "id": "e749e589",
   "metadata": {},
   "source": [
    "<h3>E.  Summarize your data analysis by doing the following:</h3>"
   ]
  },
  {
   "cell_type": "markdown",
   "id": "e17c5b71",
   "metadata": {},
   "source": [
    "<h3>E1. Explain the accuracy and the area under the curve (AUC) of your classification model.</h3>\n",
    "\n",
    "The provided prediction model's accuracy "
   ]
  },
  {
   "cell_type": "code",
   "execution_count": 31,
   "id": "a00ff5ac",
   "metadata": {},
   "outputs": [
    {
     "data": {
      "image/png": "[encoded data removed]",
      "text/plain": [
       "<Figure size 432x288 with 1 Axes>"
      ]
     },
     "metadata": {
      "needs_background": "light"
     },
     "output_type": "display_data"
    }
   ],
   "source": [
    "# Setup arrays to store train and test accuracies\n",
    "neighbors = np.arange(1, 15)\n",
    "train_accuracy = np.empty(len(neighbors))\n",
    "test_accuracy = np.empty(len(neighbors))\n",
    "\n",
    "# Loop over different values of k\n",
    "for i, k in enumerate(neighbors):\n",
    "    # Setup a k-NN Classifier with k neighbors: knn\n",
    "    knn = KNN(n_neighbors=k)\n",
    "\n",
    "    # Fit the classifier to the training data\n",
    "    knn.fit(X_train,y_train)\n",
    "    \n",
    "    #Compute accuracy on the training set\n",
    "    train_accuracy[i] = knn.score(X_train, y_train)\n",
    "\n",
    "    #Compute accuracy on the testing set\n",
    "    test_accuracy[i] = knn.score(X_test,y_test)\n",
    "\n",
    "# Generate plot\n",
    "plt.title('k-NN: Varying Number of Neighbors')\n",
    "plt.plot(neighbors, test_accuracy, label = 'Testing Accuracy')\n",
    "plt.plot(neighbors, train_accuracy, label = 'Training Accuracy')\n",
    "plt.legend()\n",
    "plt.xlabel('Number of Neighbors')\n",
    "plt.ylabel('Accuracy')\n",
    "plt.show()\n"
   ]
  },
  {
   "cell_type": "code",
   "execution_count": 32,
   "id": "2971fd4d",
   "metadata": {},
   "outputs": [
    {
     "data": {
      "text/plain": [
       "0.8761367168376161"
      ]
     },
     "execution_count": 32,
     "metadata": {},
     "output_type": "execute_result"
    }
   ],
   "source": [
    "# Calculating roc_auc_score for KNN model\n",
    "roc_auc_score(y_test, y_pred_prob)"
   ]
  },
  {
   "cell_type": "code",
   "execution_count": 33,
   "id": "15e25c19",
   "metadata": {},
   "outputs": [
    {
     "name": "stdout",
     "output_type": "stream",
     "text": [
      "AUC: 0.8998550854168974\n",
      "AUC scores computed using 5-fold cross-validation: [0.82166419 0.81154579 0.82180525 0.8216997  0.83838028]\n"
     ]
    }
   ],
   "source": [
    "# Compute predicted probabilities: y_pred_prob\n",
    "y_pred_prob = knn.predict_proba(X_test)[:,1]\n",
    "\n",
    "print(\"AUC: {}\".format(roc_auc_score(y_test, y_pred_prob)))\n",
    "\n",
    "# Cross validation score for KNN model\n",
    "cv_scores = cross_val_score(knn, X, y, cv=5, scoring='roc_auc')\n",
    "\n",
    "print(\"AUC scores computed using 5-fold cross-validation: {}\".format(cv_scores))"
   ]
  },
  {
   "cell_type": "markdown",
   "id": "b3983946",
   "metadata": {},
   "source": [
    "<h3>E2.  Discuss the results and implications of your prediction analysis.</h3>"
   ]
  },
  {
   "cell_type": "markdown",
   "id": "ccd363d8",
   "metadata": {},
   "source": [
    "<h3>E3.  Discuss one limitation of your data analysis.</h3>\n",
    "\n",
    "The data does not include enough context to outline why the customer felt justified in identifying themselves as 'Techie'."
   ]
  },
  {
   "cell_type": "markdown",
   "id": "8fb229e2",
   "metadata": {},
   "source": [
    "<h3>E4.  Recommend a course of action for the real-world organizational situation from part A1 based on your results and implications discussed in part E2.</h3>"
   ]
  },
  {
   "cell_type": "markdown",
   "id": "ec83fd83",
   "metadata": {},
   "source": [
    "<h3>Part VI: Demonstration</h3>"
   ]
  },
  {
   "cell_type": "markdown",
   "id": "9ebb13cc",
   "metadata": {},
   "source": [
    "<h3>F: PANOPTO</h3>"
   ]
  },
  {
   "cell_type": "markdown",
   "id": "0b27cdd0",
   "metadata": {},
   "source": [
    "<h3>G: WEB SOURCES</h3>\n",
    "<ul>\n",
    "    <li>Machine Learning with scikit-learn. DataCamp. (n.d.). Retrieved July 5, 2022, from https://app.datacamp.com/learn/courses/machine-learning-with-scikit-learn </li>\n",
    "</ul>"
   ]
  },
  {
   "cell_type": "markdown",
   "id": "0217ab78",
   "metadata": {},
   "source": [
    "<h3>H: SOURCES</h3>\n",
    "<ul>\n",
    "    <li>Harrison, O. (2019, July 14). Machine learning basics with the K-nearest neighbors algorithm. Medium. Retrieved July 5, 2022, from https://towardsdatascience.com/machine-learning-basics-with-the-k-nearest-neighbors-algorithm-6a6e71d01761 </li>\n",
    "    <li>Sakshi Gupta. (2022, June 15). Knn Machine Learning Algorithm explained. Springboard Blog. Retrieved July 5, 2022, from https://www.springboard.com/blog/data-science/knn-algorithm/ </li>\n",
    "        <li>dearC. (2019, August 26). All the annoying assumptions. Medium. Retrieved July 5, 2022, from https://towardsdatascience.com/all-the-annoying-assumptions-31b55df246c3 </li>\n",
    "</ul>"
   ]
  },
  {
   "cell_type": "markdown",
   "id": "c7577f21",
   "metadata": {},
   "source": [
    "<h3></h3>"
   ]
  },
  {
   "cell_type": "markdown",
   "id": "da2a687f",
   "metadata": {},
   "source": [
    "<h3></h3>"
   ]
  },
  {
   "cell_type": "markdown",
   "id": "1e6be9e3",
   "metadata": {},
   "source": [
    "<h3></h3>"
   ]
  },
  {
   "cell_type": "markdown",
   "id": "9b9f52ed",
   "metadata": {},
   "source": [
    "<h3></h3>"
   ]
  },
  {
   "cell_type": "code",
   "execution_count": null,
   "id": "eba68c4d",
   "metadata": {},
   "outputs": [],
   "source": []
  }
 ],
 "metadata": {
  "kernelspec": {
   "display_name": "Python 3 (ipykernel)",
   "language": "python",
   "name": "python3"
  },
  "language_info": {
   "codemirror_mode": {
    "name": "ipython",
    "version": 3
   },
   "file_extension": ".py",
   "mimetype": "text/x-python",
   "name": "python",
   "nbconvert_exporter": "python",
   "pygments_lexer": "ipython3",
   "version": "3.9.7"
  }
 },
 "nbformat": 4,
 "nbformat_minor": 5
}
