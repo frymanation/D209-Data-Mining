{
 "cells": [
  {
   "cell_type": "markdown",
   "id": "813cbf98",
   "metadata": {},
   "source": [
    "<h2>D209 - Data Mining - TASK 2: PREDICTIVE ANALYSIS</h2>\n",
    "\n",
    "Jonathon \"Jon” Fryman<br>\n",
    "Data Analytics 01/01/2022<br>\n",
    "Student ID 000974544<br>\n",
    "Program Mentor: Lea Yoakem<br>\n",
    "C: 419-206-6989 (ET)<br>\n",
    "jfryma1@wgu.edu<br>"
   ]
  },
  {
   "cell_type": "markdown",
   "id": "358dadf3",
   "metadata": {},
   "source": [
    "<h3>Part I: Research Question</h3>"
   ]
  },
  {
   "cell_type": "markdown",
   "id": "78fd2d03",
   "metadata": {},
   "source": [
    "<h3>A.  Describe the purpose of this data mining report by doing the following:</h3>"
   ]
  },
  {
   "cell_type": "markdown",
   "id": "a6516c9c",
   "metadata": {},
   "source": [
    "<h3>A1.  Propose one question relevant to a real-world organizational situation that you will answer using one of the following prediction methods:</h3>\n",
    "•  decision trees\n",
    "•  random forests\n",
    "•  advanced regression (i.e., lasso or ridge regression)"
   ]
  },
  {
   "cell_type": "markdown",
   "id": "e6d0fe17",
   "metadata": {},
   "source": [
    "<h3>A2. Define one goal of the data analysis.</h3>\n",
    "Ensure that your goal is reasonable within the scope of the scenario and is represented in the available data.\n",
    " "
   ]
  },
  {
   "cell_type": "markdown",
   "id": "65e861d9",
   "metadata": {},
   "source": [
    "<h3>Part II: Method Justification</h3>"
   ]
  },
  {
   "cell_type": "markdown",
   "id": "b0f085cb",
   "metadata": {},
   "source": [
    "<h3>B.  Explain the reasons for your chosen prediction method from part A1 by doing the following:</h3>"
   ]
  },
  {
   "cell_type": "markdown",
   "id": "f02b85bc",
   "metadata": {},
   "source": [
    "<h3>B1.  Explain how the prediction method you chose analyzes the selected data set. Include expected outcomes.</h3>"
   ]
  },
  {
   "cell_type": "markdown",
   "id": "d5c8f5e6",
   "metadata": {},
   "source": [
    "<h3>B2.  Summarize one assumption of the chosen prediction method.</h3>"
   ]
  },
  {
   "cell_type": "markdown",
   "id": "ea32bb6b",
   "metadata": {},
   "source": [
    "<h3>B3.  List the packages or libraries you have chosen for Python or R, and justify how each item on the list supports the analysis.</h3>\n"
   ]
  },
  {
   "cell_type": "markdown",
   "id": "6d1977aa",
   "metadata": {},
   "source": [
    "<h3>Part III: Data Preparation</h3>"
   ]
  },
  {
   "cell_type": "markdown",
   "id": "40b91e9a",
   "metadata": {},
   "source": [
    "<h3>C.  Perform data preparation for the chosen data set by doing the following:</h3>"
   ]
  },
  {
   "cell_type": "markdown",
   "id": "22e0c6de",
   "metadata": {},
   "source": [
    "<h3>C1.  Describe one data preprocessing goal relevant to the prediction method from part A1.</h3>"
   ]
  },
  {
   "cell_type": "markdown",
   "id": "40f917a0",
   "metadata": {},
   "source": [
    "<h3>C2.  Identify the initial data set variables that you will use to perform the analysis for the prediction question from part A1, and group each variable as continuous or categorical. </h3>"
   ]
  },
  {
   "cell_type": "markdown",
   "id": "5985ec8b",
   "metadata": {},
   "source": [
    "<h3>C3.  Explain the steps used to prepare the data for the analysis. Identify the code segment for each step.</h3>"
   ]
  },
  {
   "cell_type": "markdown",
   "id": "ed918c00",
   "metadata": {},
   "source": [
    "<h3>C4.  Provide a copy of the cleaned data set.</h3>"
   ]
  },
  {
   "cell_type": "markdown",
   "id": "207c09ca",
   "metadata": {},
   "source": [
    "<h3>Part IV.  Analysis</h3>"
   ]
  },
  {
   "cell_type": "markdown",
   "id": "49bce31f",
   "metadata": {},
   "source": [
    "<h3>D.  Perform the data analysis and report on the results by doing the following:</h3>"
   ]
  },
  {
   "cell_type": "markdown",
   "id": "0a2330d3",
   "metadata": {},
   "source": [
    "<h3>D1.  Split the data into training and test data sets and provide the file(s).</h3>"
   ]
  },
  {
   "cell_type": "markdown",
   "id": "fbc9f24c",
   "metadata": {},
   "source": [
    "<h3>D2.  Describe the analysis technique you used to appropriately analyze the data. Include screenshots of the intermediate calculations you performed..</h3>"
   ]
  },
  {
   "cell_type": "markdown",
   "id": "952db58f",
   "metadata": {},
   "source": [
    "<h3>D3.  Provide the code used to perform the prediction analysis from part D2.</h3>"
   ]
  },
  {
   "cell_type": "markdown",
   "id": "54c2d89b",
   "metadata": {},
   "source": [
    "<h3>Part V: Data Summary and Implications</h3>"
   ]
  },
  {
   "cell_type": "markdown",
   "id": "fc3f0087",
   "metadata": {},
   "source": [
    "<h3>E.  Summarize your data analysis by doing the following:</h3>"
   ]
  },
  {
   "cell_type": "markdown",
   "id": "8f32eb49",
   "metadata": {},
   "source": [
    "<h3>E1.  Explain the accuracy and the mean squared error (MSE) of your prediction model.</h3>"
   ]
  },
  {
   "cell_type": "markdown",
   "id": "f20753d2",
   "metadata": {},
   "source": [
    "<h3>E2.  Discuss the results and implications of your prediction analysis.</h3>"
   ]
  },
  {
   "cell_type": "markdown",
   "id": "d62ecd9a",
   "metadata": {},
   "source": [
    "<h3>E3.  Discuss one limitation of your data analysis.</h3>"
   ]
  },
  {
   "cell_type": "markdown",
   "id": "5b46c81d",
   "metadata": {},
   "source": [
    "<h3>E4.  Recommend a course of action for the real-world organizational situation from part A1 based on your results and implications discussed in part E2.</h3>"
   ]
  },
  {
   "cell_type": "markdown",
   "id": "941b66b4",
   "metadata": {},
   "source": [
    "<h3>Part VI: Demonstration</h3>"
   ]
  },
  {
   "cell_type": "markdown",
   "id": "58305ac4",
   "metadata": {},
   "source": [
    "<h3>F: PANOPTO</h3>"
   ]
  },
  {
   "cell_type": "markdown",
   "id": "d294cde4",
   "metadata": {},
   "source": [
    "<h3>G: WEB SOURCES</h3>"
   ]
  },
  {
   "cell_type": "markdown",
   "id": "4bafa34d",
   "metadata": {},
   "source": [
    "<h3>H: SOURCES</h3>"
   ]
  },
  {
   "cell_type": "markdown",
   "id": "b81e392e",
   "metadata": {},
   "source": [
    "<h3></h3>"
   ]
  },
  {
   "cell_type": "markdown",
   "id": "a10fe234",
   "metadata": {},
   "source": [
    "<h3></h3>"
   ]
  },
  {
   "cell_type": "markdown",
   "id": "e5a2722a",
   "metadata": {},
   "source": [
    "<h3></h3>"
   ]
  },
  {
   "cell_type": "markdown",
   "id": "9f22560d",
   "metadata": {},
   "source": [
    "<h3></h3>"
   ]
  },
  {
   "cell_type": "code",
   "execution_count": null,
   "id": "dbeeebe4",
   "metadata": {},
   "outputs": [],
   "source": []
  }
 ],
 "metadata": {
  "kernelspec": {
   "display_name": "Python 3 (ipykernel)",
   "language": "python",
   "name": "python3"
  },
  "language_info": {
   "codemirror_mode": {
    "name": "ipython",
    "version": 3
   },
   "file_extension": ".py",
   "mimetype": "text/x-python",
   "name": "python",
   "nbconvert_exporter": "python",
   "pygments_lexer": "ipython3",
   "version": "3.9.7"
  }
 },
 "nbformat": 4,
 "nbformat_minor": 5
}
